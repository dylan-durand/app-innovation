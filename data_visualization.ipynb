{
 "cells": [
  {
   "cell_type": "code",
   "execution_count": 14,
   "metadata": {},
   "outputs": [],
   "source": [
    "%%capture\n",
    "\n",
    "import sys\n",
    "\n",
    "%pip install pandas\n",
    "%pip install lxml\n",
    "%pip install matplotlib\n",
    "%pip install tqdm\n",
    "%pip install spacy\n",
    "%pip install wordcloud\n",
    "%pip install spacy_langdetect\n",
    "%pip install spacymoji\n",
    "\n",
    "!{sys.executable} -m spacy download fr_core_news_md\n",
    "!{sys.executable} -m spacy download en_core_web_md\n",
    "#python -m spacy download en_core_web_md"
   ]
  },
  {
   "cell_type": "code",
   "execution_count": 1,
   "metadata": {},
   "outputs": [],
   "source": [
    "import pandas as pd\n",
    "import matplotlib.pyplot as plt\n",
    "from collections import Counter\n",
    "import spacy\n",
    "from tqdm import tqdm\n",
    "from wordcloud import WordCloud\n",
    "from spacy.language import Language\n",
    "from spacy_langdetect import LanguageDetector\n",
    "import csv\n",
    "import numpy as np\n",
    "from spacymoji import Emoji\n",
    "from liblinear.liblinearutil import *\n",
    "import re\n"
   ]
  },
  {
   "cell_type": "code",
   "execution_count": 2,
   "metadata": {},
   "outputs": [],
   "source": [
    "nlp = spacy.load('fr_core_news_md')\n",
    "#nlp = spacy.load(\"en_core_web_md\")\n",
    "#nlp.add_pipe(\"emoji\", first=True)\n",
    "#def get_lang_detector(nlp, name):\n",
    "#    return LanguageDetector()\n",
    "#Language.factory(\"language_detector\", func=get_lang_detector)\n",
    "#nlp.add_pipe('language_detector', last=True)\n"
   ]
  },
  {
   "cell_type": "code",
   "execution_count": 3,
   "metadata": {},
   "outputs": [
    {
     "data": {
      "text/html": [
       "<div>\n",
       "<style scoped>\n",
       "    .dataframe tbody tr th:only-of-type {\n",
       "        vertical-align: middle;\n",
       "    }\n",
       "\n",
       "    .dataframe tbody tr th {\n",
       "        vertical-align: top;\n",
       "    }\n",
       "\n",
       "    .dataframe thead th {\n",
       "        text-align: right;\n",
       "    }\n",
       "</style>\n",
       "<table border=\"1\" class=\"dataframe\">\n",
       "  <thead>\n",
       "    <tr style=\"text-align: right;\">\n",
       "      <th></th>\n",
       "      <th>movie</th>\n",
       "      <th>review_id</th>\n",
       "      <th>name</th>\n",
       "      <th>user_id</th>\n",
       "      <th>note</th>\n",
       "      <th>commentaire</th>\n",
       "    </tr>\n",
       "  </thead>\n",
       "  <tbody>\n",
       "    <tr>\n",
       "      <th>0</th>\n",
       "      <td>229864</td>\n",
       "      <td>review_58145147</td>\n",
       "      <td>AM11</td>\n",
       "      <td>Z20051105131449940367618</td>\n",
       "      <td>4,0</td>\n",
       "      <td>\"Ce n'est pas ce qui se trouve en face de vous...</td>\n",
       "    </tr>\n",
       "    <tr>\n",
       "      <th>1</th>\n",
       "      <td>229864</td>\n",
       "      <td>review_59303833</td>\n",
       "      <td>this is my movies</td>\n",
       "      <td>Z20051220181957240298347</td>\n",
       "      <td>3,5</td>\n",
       "      <td>(...) En soi, je n'ai rien contre ce genre de ...</td>\n",
       "    </tr>\n",
       "    <tr>\n",
       "      <th>2</th>\n",
       "      <td>229864</td>\n",
       "      <td>review_61916672</td>\n",
       "      <td>Shephard69</td>\n",
       "      <td>Z20121226180301760912584</td>\n",
       "      <td>4,5</td>\n",
       "      <td>Pour sa troisième réalisation après \"Tron, l'h...</td>\n",
       "    </tr>\n",
       "    <tr>\n",
       "      <th>3</th>\n",
       "      <td>229864</td>\n",
       "      <td>review_1000190786</td>\n",
       "      <td>Tayop</td>\n",
       "      <td>Z20121022182542230468657</td>\n",
       "      <td>3,0</td>\n",
       "      <td>Joseph Kosinski offre de nouvelles images ébou...</td>\n",
       "    </tr>\n",
       "    <tr>\n",
       "      <th>4</th>\n",
       "      <td>229864</td>\n",
       "      <td>review_59207755</td>\n",
       "      <td>ned123</td>\n",
       "      <td>Z20061211223247607682175</td>\n",
       "      <td>3,5</td>\n",
       "      <td>J'ai vu un film... qui traite d'un drame humai...</td>\n",
       "    </tr>\n",
       "    <tr>\n",
       "      <th>...</th>\n",
       "      <td>...</td>\n",
       "      <td>...</td>\n",
       "      <td>...</td>\n",
       "      <td>...</td>\n",
       "      <td>...</td>\n",
       "      <td>...</td>\n",
       "    </tr>\n",
       "    <tr>\n",
       "      <th>665957</th>\n",
       "      <td>245551</td>\n",
       "      <td>review_55820729</td>\n",
       "      <td>Wally L</td>\n",
       "      <td>Z20121109004006553333277</td>\n",
       "      <td>4,0</td>\n",
       "      <td>super realisation et quelques bon acteurs.  ce...</td>\n",
       "    </tr>\n",
       "    <tr>\n",
       "      <th>665958</th>\n",
       "      <td>245551</td>\n",
       "      <td>review_1001840194</td>\n",
       "      <td>r@ch</td>\n",
       "      <td>Z20100726110927837577369</td>\n",
       "      <td>3,0</td>\n",
       "      <td>Film visuellement très beau et mis en musique ...</td>\n",
       "    </tr>\n",
       "    <tr>\n",
       "      <th>665959</th>\n",
       "      <td>245551</td>\n",
       "      <td>review_56242470</td>\n",
       "      <td>Kaiser D.</td>\n",
       "      <td>Z20170721223303710182536</td>\n",
       "      <td>3,5</td>\n",
       "      <td>parti d'une histoire qui parait pour nous bana...</td>\n",
       "    </tr>\n",
       "    <tr>\n",
       "      <th>665960</th>\n",
       "      <td>245551</td>\n",
       "      <td>review_58174196</td>\n",
       "      <td>Florent A.</td>\n",
       "      <td>Z20161204004443590736237</td>\n",
       "      <td>3,0</td>\n",
       "      <td>Je suis mitigé sur ce film.d un coté,j ai plut...</td>\n",
       "    </tr>\n",
       "    <tr>\n",
       "      <th>665961</th>\n",
       "      <td>245551</td>\n",
       "      <td>review_1006358741</td>\n",
       "      <td>NSI N.</td>\n",
       "      <td>Z20170408073937420327568</td>\n",
       "      <td>3,5</td>\n",
       "      <td>un bon film Netflix pour une fois  . le scénar...</td>\n",
       "    </tr>\n",
       "  </tbody>\n",
       "</table>\n",
       "<p>665962 rows × 6 columns</p>\n",
       "</div>"
      ],
      "text/plain": [
       "         movie          review_id               name  \\\n",
       "0       229864    review_58145147               AM11   \n",
       "1       229864    review_59303833  this is my movies   \n",
       "2       229864    review_61916672         Shephard69   \n",
       "3       229864  review_1000190786              Tayop   \n",
       "4       229864    review_59207755             ned123   \n",
       "...        ...                ...                ...   \n",
       "665957  245551    review_55820729            Wally L   \n",
       "665958  245551  review_1001840194               r@ch   \n",
       "665959  245551    review_56242470          Kaiser D.   \n",
       "665960  245551    review_58174196         Florent A.   \n",
       "665961  245551  review_1006358741             NSI N.   \n",
       "\n",
       "                         user_id note  \\\n",
       "0       Z20051105131449940367618  4,0   \n",
       "1       Z20051220181957240298347  3,5   \n",
       "2       Z20121226180301760912584  4,5   \n",
       "3       Z20121022182542230468657  3,0   \n",
       "4       Z20061211223247607682175  3,5   \n",
       "...                          ...  ...   \n",
       "665957  Z20121109004006553333277  4,0   \n",
       "665958  Z20100726110927837577369  3,0   \n",
       "665959  Z20170721223303710182536  3,5   \n",
       "665960  Z20161204004443590736237  3,0   \n",
       "665961  Z20170408073937420327568  3,5   \n",
       "\n",
       "                                              commentaire  \n",
       "0       \"Ce n'est pas ce qui se trouve en face de vous...  \n",
       "1       (...) En soi, je n'ai rien contre ce genre de ...  \n",
       "2       Pour sa troisième réalisation après \"Tron, l'h...  \n",
       "3       Joseph Kosinski offre de nouvelles images ébou...  \n",
       "4       J'ai vu un film... qui traite d'un drame humai...  \n",
       "...                                                   ...  \n",
       "665957  super realisation et quelques bon acteurs.  ce...  \n",
       "665958  Film visuellement très beau et mis en musique ...  \n",
       "665959  parti d'une histoire qui parait pour nous bana...  \n",
       "665960  Je suis mitigé sur ce film.d un coté,j ai plut...  \n",
       "665961  un bon film Netflix pour une fois  . le scénar...  \n",
       "\n",
       "[665962 rows x 6 columns]"
      ]
     },
     "execution_count": 3,
     "metadata": {},
     "output_type": "execute_result"
    }
   ],
   "source": [
    "DATAFILE = \"data/train.xml\"\n",
    "\n",
    "df : pd.DataFrame = pd.read_xml(DATAFILE)\n",
    "df"
   ]
  },
  {
   "cell_type": "code",
   "execution_count": 4,
   "metadata": {},
   "outputs": [
    {
     "data": {
      "text/plain": [
       "movie            3202\n",
       "review_id      665962\n",
       "name            97033\n",
       "user_id        119666\n",
       "note               10\n",
       "commentaire    665001\n",
       "dtype: int64"
      ]
     },
     "execution_count": 4,
     "metadata": {},
     "output_type": "execute_result"
    }
   ],
   "source": [
    "df.nunique()\n"
   ]
  },
  {
   "cell_type": "code",
   "execution_count": 4,
   "metadata": {},
   "outputs": [],
   "source": [
    "df[\"note\"].to_numpy()\n",
    "notes = df['note'].unique()\n",
    "notes.sort()"
   ]
  },
  {
   "cell_type": "code",
   "execution_count": null,
   "metadata": {},
   "outputs": [],
   "source": [
    "bag_of_words = pd.DataFrame(columns=notes)\n",
    "for comment, note in tqdm(df[['commentaire', 'note']].to_numpy()) :\n",
    "    if comment and note :\n",
    "        nlp_comment = nlp(comment)\n",
    "        for token in nlp_comment :\n",
    "            if not token.is_stop :\n",
    "                if not token.lemma_ in bag_of_words.index :\n",
    "                    bag_of_words.loc[token.lemma_] = [0, 0, 0, 0, 0, 0, 0, 0, 0, 0]\n",
    "                bag_of_words.loc[token.lemma_][note] += 1\n",
    "bag_of_words.to_csv('out.csv')\n",
    "bag_of_words"
   ]
  },
  {
   "cell_type": "code",
   "execution_count": 5,
   "metadata": {},
   "outputs": [
    {
     "data": {
      "text/html": [
       "<div>\n",
       "<style scoped>\n",
       "    .dataframe tbody tr th:only-of-type {\n",
       "        vertical-align: middle;\n",
       "    }\n",
       "\n",
       "    .dataframe tbody tr th {\n",
       "        vertical-align: top;\n",
       "    }\n",
       "\n",
       "    .dataframe thead th {\n",
       "        text-align: right;\n",
       "    }\n",
       "</style>\n",
       "<table border=\"1\" class=\"dataframe\">\n",
       "  <thead>\n",
       "    <tr style=\"text-align: right;\">\n",
       "      <th></th>\n",
       "      <th>word</th>\n",
       "      <th>0,5</th>\n",
       "      <th>1,0</th>\n",
       "      <th>1,5</th>\n",
       "      <th>2,0</th>\n",
       "      <th>2,5</th>\n",
       "      <th>3,0</th>\n",
       "      <th>3,5</th>\n",
       "      <th>4,0</th>\n",
       "      <th>4,5</th>\n",
       "      <th>5,0</th>\n",
       "    </tr>\n",
       "  </thead>\n",
       "  <tbody>\n",
       "    <tr>\n",
       "      <th>0</th>\n",
       "      <td>\"</td>\n",
       "      <td>27256</td>\n",
       "      <td>25001</td>\n",
       "      <td>24640</td>\n",
       "      <td>47188</td>\n",
       "      <td>48732</td>\n",
       "      <td>81768</td>\n",
       "      <td>83523</td>\n",
       "      <td>94065</td>\n",
       "      <td>43979</td>\n",
       "      <td>35470</td>\n",
       "    </tr>\n",
       "    <tr>\n",
       "      <th>1</th>\n",
       "      <td>trouve</td>\n",
       "      <td>1125</td>\n",
       "      <td>1218</td>\n",
       "      <td>1309</td>\n",
       "      <td>2859</td>\n",
       "      <td>3437</td>\n",
       "      <td>6303</td>\n",
       "      <td>6576</td>\n",
       "      <td>7226</td>\n",
       "      <td>3200</td>\n",
       "      <td>3058</td>\n",
       "    </tr>\n",
       "    <tr>\n",
       "      <th>2</th>\n",
       "      <td>face</td>\n",
       "      <td>616</td>\n",
       "      <td>776</td>\n",
       "      <td>838</td>\n",
       "      <td>1646</td>\n",
       "      <td>1837</td>\n",
       "      <td>3394</td>\n",
       "      <td>4167</td>\n",
       "      <td>5022</td>\n",
       "      <td>2638</td>\n",
       "      <td>2097</td>\n",
       "    </tr>\n",
       "    <tr>\n",
       "      <th>3</th>\n",
       "      <td>,</td>\n",
       "      <td>170841</td>\n",
       "      <td>167466</td>\n",
       "      <td>164684</td>\n",
       "      <td>326623</td>\n",
       "      <td>339051</td>\n",
       "      <td>561118</td>\n",
       "      <td>595140</td>\n",
       "      <td>729555</td>\n",
       "      <td>378933</td>\n",
       "      <td>342115</td>\n",
       "    </tr>\n",
       "    <tr>\n",
       "      <th>4</th>\n",
       "      <td>tenir</td>\n",
       "      <td>1340</td>\n",
       "      <td>1109</td>\n",
       "      <td>1129</td>\n",
       "      <td>2198</td>\n",
       "      <td>2584</td>\n",
       "      <td>4767</td>\n",
       "      <td>5494</td>\n",
       "      <td>6420</td>\n",
       "      <td>2951</td>\n",
       "      <td>2384</td>\n",
       "    </tr>\n",
       "    <tr>\n",
       "      <th>...</th>\n",
       "      <td>...</td>\n",
       "      <td>...</td>\n",
       "      <td>...</td>\n",
       "      <td>...</td>\n",
       "      <td>...</td>\n",
       "      <td>...</td>\n",
       "      <td>...</td>\n",
       "      <td>...</td>\n",
       "      <td>...</td>\n",
       "      <td>...</td>\n",
       "      <td>...</td>\n",
       "    </tr>\n",
       "    <tr>\n",
       "      <th>289430</th>\n",
       "      <td>richmond</td>\n",
       "      <td>0</td>\n",
       "      <td>0</td>\n",
       "      <td>0</td>\n",
       "      <td>0</td>\n",
       "      <td>0</td>\n",
       "      <td>0</td>\n",
       "      <td>0</td>\n",
       "      <td>1</td>\n",
       "      <td>0</td>\n",
       "      <td>0</td>\n",
       "    </tr>\n",
       "    <tr>\n",
       "      <th>289431</th>\n",
       "      <td>sneaker</td>\n",
       "      <td>0</td>\n",
       "      <td>0</td>\n",
       "      <td>0</td>\n",
       "      <td>0</td>\n",
       "      <td>0</td>\n",
       "      <td>0</td>\n",
       "      <td>0</td>\n",
       "      <td>1</td>\n",
       "      <td>0</td>\n",
       "      <td>0</td>\n",
       "    </tr>\n",
       "    <tr>\n",
       "      <th>289432</th>\n",
       "      <td>fierement</td>\n",
       "      <td>0</td>\n",
       "      <td>0</td>\n",
       "      <td>0</td>\n",
       "      <td>0</td>\n",
       "      <td>0</td>\n",
       "      <td>1</td>\n",
       "      <td>0</td>\n",
       "      <td>0</td>\n",
       "      <td>0</td>\n",
       "      <td>0</td>\n",
       "    </tr>\n",
       "    <tr>\n",
       "      <th>289433</th>\n",
       "      <td>consommation.violence</td>\n",
       "      <td>0</td>\n",
       "      <td>0</td>\n",
       "      <td>0</td>\n",
       "      <td>0</td>\n",
       "      <td>0</td>\n",
       "      <td>1</td>\n",
       "      <td>0</td>\n",
       "      <td>0</td>\n",
       "      <td>0</td>\n",
       "      <td>0</td>\n",
       "    </tr>\n",
       "    <tr>\n",
       "      <th>289434</th>\n",
       "      <td>renforçe</td>\n",
       "      <td>0</td>\n",
       "      <td>0</td>\n",
       "      <td>0</td>\n",
       "      <td>0</td>\n",
       "      <td>0</td>\n",
       "      <td>1</td>\n",
       "      <td>0</td>\n",
       "      <td>0</td>\n",
       "      <td>0</td>\n",
       "      <td>0</td>\n",
       "    </tr>\n",
       "  </tbody>\n",
       "</table>\n",
       "<p>289435 rows × 11 columns</p>\n",
       "</div>"
      ],
      "text/plain": [
       "                         word     0,5     1,0     1,5     2,0     2,5     3,0  \\\n",
       "0                           \"   27256   25001   24640   47188   48732   81768   \n",
       "1                      trouve    1125    1218    1309    2859    3437    6303   \n",
       "2                        face     616     776     838    1646    1837    3394   \n",
       "3                           ,  170841  167466  164684  326623  339051  561118   \n",
       "4                       tenir    1340    1109    1129    2198    2584    4767   \n",
       "...                       ...     ...     ...     ...     ...     ...     ...   \n",
       "289430               richmond       0       0       0       0       0       0   \n",
       "289431                sneaker       0       0       0       0       0       0   \n",
       "289432              fierement       0       0       0       0       0       1   \n",
       "289433  consommation.violence       0       0       0       0       0       1   \n",
       "289434               renforçe       0       0       0       0       0       1   \n",
       "\n",
       "           3,5     4,0     4,5     5,0  \n",
       "0        83523   94065   43979   35470  \n",
       "1         6576    7226    3200    3058  \n",
       "2         4167    5022    2638    2097  \n",
       "3       595140  729555  378933  342115  \n",
       "4         5494    6420    2951    2384  \n",
       "...        ...     ...     ...     ...  \n",
       "289430       0       1       0       0  \n",
       "289431       0       1       0       0  \n",
       "289432       0       0       0       0  \n",
       "289433       0       0       0       0  \n",
       "289434       0       0       0       0  \n",
       "\n",
       "[289435 rows x 11 columns]"
      ]
     },
     "execution_count": 5,
     "metadata": {},
     "output_type": "execute_result"
    }
   ],
   "source": [
    "# fetch bag of words from CSV\n",
    "bag_of_words : pd.DataFrame = pd.read_csv(\"out.csv\")\n",
    "bag_of_words"
   ]
  },
  {
   "cell_type": "code",
   "execution_count": 51,
   "metadata": {},
   "outputs": [
    {
     "name": "stderr",
     "output_type": "stream",
     "text": [
      "100%|██████████| 665962/665962 [19:08<00:00, 579.85it/s]  \n"
     ]
    }
   ],
   "source": [
    "#wordCloud data creation don't run again\n",
    "word_cloud = pd.DataFrame(columns=notes)\n",
    "word_cloud_tmp = \"\"\n",
    "tmp_note = \"5,0\"\n",
    "for comment, note in tqdm(df[['commentaire', 'note']].to_numpy()) :\n",
    "    if comment and note==tmp_note :\n",
    "        nlp_comment = nlp(comment)\n",
    "        for token in nlp_comment :\n",
    "            if not token.is_stop :\n",
    "                word_cloud_tmp += token.text + ' '\n",
    "word_cloud.loc[\"text\"].loc[tmp_note] = word_cloud_tmp\n",
    "word_cloud\n",
    "word_cloud.to_xml('wordCloudData.csv')"
   ]
  },
  {
   "cell_type": "code",
   "execution_count": 21,
   "metadata": {},
   "outputs": [
    {
     "data": {
      "text/html": [
       "<div>\n",
       "<style scoped>\n",
       "    .dataframe tbody tr th:only-of-type {\n",
       "        vertical-align: middle;\n",
       "    }\n",
       "\n",
       "    .dataframe tbody tr th {\n",
       "        vertical-align: top;\n",
       "    }\n",
       "\n",
       "    .dataframe thead th {\n",
       "        text-align: right;\n",
       "    }\n",
       "</style>\n",
       "<table border=\"1\" class=\"dataframe\">\n",
       "  <thead>\n",
       "    <tr style=\"text-align: right;\">\n",
       "      <th></th>\n",
       "      <th>0,5</th>\n",
       "      <th>1,0</th>\n",
       "      <th>1,5</th>\n",
       "      <th>2,0</th>\n",
       "      <th>2,5</th>\n",
       "      <th>3,0</th>\n",
       "      <th>3,5</th>\n",
       "      <th>4,0</th>\n",
       "      <th>4,5</th>\n",
       "      <th>5,0</th>\n",
       "    </tr>\n",
       "  </thead>\n",
       "  <tbody>\n",
       "    <tr>\n",
       "      <th>text</th>\n",
       "      <td>vient Allemagne drôles best-seller . Grâce \" C...</td>\n",
       "      <td>bidon passe rien , ! discute rien , déception ...</td>\n",
       "      <td>déçu . agit documentaires juxtaposés ( 40 minu...</td>\n",
       "      <td>film creux base histoire vraie ( mort 19 pompi...</td>\n",
       "      <td>pire morts . mort poisson papillote . RIP homm...</td>\n",
       "      <td>Joseph Kosinski offre nouvelles images ébourif...</td>\n",
       "      <td>( ... ) , rien contre genre récit hyper codifi...</td>\n",
       "      <td>\" trouve face , tient côté \" . phrase tagline ...</td>\n",
       "      <td>réalisation \" Tron , héritage \" \" Oblivion \" a...</td>\n",
       "      <td>super film tiré réel . Acteurs impeccables rôl...</td>\n",
       "    </tr>\n",
       "  </tbody>\n",
       "</table>\n",
       "</div>"
      ],
      "text/plain": [
       "                                                    0,5  \\\n",
       "text  vient Allemagne drôles best-seller . Grâce \" C...   \n",
       "\n",
       "                                                    1,0  \\\n",
       "text  bidon passe rien , ! discute rien , déception ...   \n",
       "\n",
       "                                                    1,5  \\\n",
       "text  déçu . agit documentaires juxtaposés ( 40 minu...   \n",
       "\n",
       "                                                    2,0  \\\n",
       "text  film creux base histoire vraie ( mort 19 pompi...   \n",
       "\n",
       "                                                    2,5  \\\n",
       "text  pire morts . mort poisson papillote . RIP homm...   \n",
       "\n",
       "                                                    3,0  \\\n",
       "text  Joseph Kosinski offre nouvelles images ébourif...   \n",
       "\n",
       "                                                    3,5  \\\n",
       "text  ( ... ) , rien contre genre récit hyper codifi...   \n",
       "\n",
       "                                                    4,0  \\\n",
       "text  \" trouve face , tient côté \" . phrase tagline ...   \n",
       "\n",
       "                                                    4,5  \\\n",
       "text  réalisation \" Tron , héritage \" \" Oblivion \" a...   \n",
       "\n",
       "                                                    5,0  \n",
       "text  super film tiré réel . Acteurs impeccables rôl...  "
      ]
     },
     "execution_count": 21,
     "metadata": {},
     "output_type": "execute_result"
    }
   ],
   "source": [
    "#fetching wordcloud from csv\n",
    "word_cloud : pd.DataFrame = pd.read_csv(\"data/wordCloudData.csv\")\n",
    "word_cloud = word_cloud.drop(\"Unnamed: 0\", axis = 1)\n",
    "word_cloud.rename(index = {0: \"text\"}, inplace = True)\n",
    "word_cloud"
   ]
  },
  {
   "cell_type": "code",
   "execution_count": 11,
   "metadata": {},
   "outputs": [
    {
     "name": "stderr",
     "output_type": "stream",
     "text": [
      "C:\\Users\\Baptiste Quay\\AppData\\Local\\Temp\\ipykernel_1852\\3132612960.py:3: FutureWarning: Dropping of nuisance columns in DataFrame reductions (with 'numeric_only=None') is deprecated; in a future version this will raise TypeError.  Select only valid columns before calling the reduction.\n",
      "  totals = bag_of_words.sum(axis='columns')\n",
      "289435it [00:16, 17833.38it/s] \n"
     ]
    }
   ],
   "source": [
    "# word proportion creation don't run again\n",
    "word_proportion = pd.DataFrame(columns=notes)\n",
    "totals = bag_of_words.sum(axis='columns')\n",
    "for row in tqdm(bag_of_words.itertuples()) :\n",
    "    tot = totals[row[0]]\n",
    "    if tot > 100 :\n",
    "        word_proportion.loc[row[1]] = [row[2]/tot, row[3]/tot, row[4]/tot, row[5]/tot, row[6]/tot, row[7]/tot, row[8]/tot, row[9]/tot, row[10]/tot, row[11]/tot]\n",
    "word_proportion.to_csv('data/wordProportionData100.csv')"
   ]
  },
  {
   "cell_type": "code",
   "execution_count": 36,
   "metadata": {},
   "outputs": [
    {
     "data": {
      "text/html": [
       "<div>\n",
       "<style scoped>\n",
       "    .dataframe tbody tr th:only-of-type {\n",
       "        vertical-align: middle;\n",
       "    }\n",
       "\n",
       "    .dataframe tbody tr th {\n",
       "        vertical-align: top;\n",
       "    }\n",
       "\n",
       "    .dataframe thead th {\n",
       "        text-align: right;\n",
       "    }\n",
       "</style>\n",
       "<table border=\"1\" class=\"dataframe\">\n",
       "  <thead>\n",
       "    <tr style=\"text-align: right;\">\n",
       "      <th></th>\n",
       "      <th>0,5</th>\n",
       "      <th>1,0</th>\n",
       "      <th>1,5</th>\n",
       "      <th>2,0</th>\n",
       "      <th>2,5</th>\n",
       "      <th>3,0</th>\n",
       "      <th>3,5</th>\n",
       "      <th>4,0</th>\n",
       "      <th>4,5</th>\n",
       "      <th>5,0</th>\n",
       "    </tr>\n",
       "  </thead>\n",
       "  <tbody>\n",
       "    <tr>\n",
       "      <th>Mou</th>\n",
       "      <td>0.264151</td>\n",
       "      <td>0.207547</td>\n",
       "      <td>0.169811</td>\n",
       "      <td>0.169811</td>\n",
       "      <td>0.103774</td>\n",
       "      <td>0.037736</td>\n",
       "      <td>0.009434</td>\n",
       "      <td>0.000000</td>\n",
       "      <td>0.037736</td>\n",
       "      <td>0.000000</td>\n",
       "    </tr>\n",
       "    <tr>\n",
       "      <th>infection</th>\n",
       "      <td>0.045455</td>\n",
       "      <td>0.072727</td>\n",
       "      <td>0.054545</td>\n",
       "      <td>0.109091</td>\n",
       "      <td>0.118182</td>\n",
       "      <td>0.227273</td>\n",
       "      <td>0.154545</td>\n",
       "      <td>0.163636</td>\n",
       "      <td>0.054545</td>\n",
       "      <td>0.000000</td>\n",
       "    </tr>\n",
       "    <tr>\n",
       "      <th>https://m.facebook.com/la7emecritique/</th>\n",
       "      <td>0.000000</td>\n",
       "      <td>0.000000</td>\n",
       "      <td>0.022388</td>\n",
       "      <td>0.037313</td>\n",
       "      <td>0.179104</td>\n",
       "      <td>0.328358</td>\n",
       "      <td>0.268657</td>\n",
       "      <td>0.141791</td>\n",
       "      <td>0.022388</td>\n",
       "      <td>0.000000</td>\n",
       "    </tr>\n",
       "    <tr>\n",
       "      <th>thisismymovies.over-blog.com</th>\n",
       "      <td>0.000000</td>\n",
       "      <td>0.005814</td>\n",
       "      <td>0.017442</td>\n",
       "      <td>0.058140</td>\n",
       "      <td>0.058140</td>\n",
       "      <td>0.162791</td>\n",
       "      <td>0.296512</td>\n",
       "      <td>0.267442</td>\n",
       "      <td>0.133721</td>\n",
       "      <td>0.000000</td>\n",
       "    </tr>\n",
       "    <tr>\n",
       "      <th>mètrage</th>\n",
       "      <td>0.044643</td>\n",
       "      <td>0.022321</td>\n",
       "      <td>0.080357</td>\n",
       "      <td>0.120536</td>\n",
       "      <td>0.160714</td>\n",
       "      <td>0.214286</td>\n",
       "      <td>0.187500</td>\n",
       "      <td>0.165179</td>\n",
       "      <td>0.004464</td>\n",
       "      <td>0.000000</td>\n",
       "    </tr>\n",
       "    <tr>\n",
       "      <th>...</th>\n",
       "      <td>...</td>\n",
       "      <td>...</td>\n",
       "      <td>...</td>\n",
       "      <td>...</td>\n",
       "      <td>...</td>\n",
       "      <td>...</td>\n",
       "      <td>...</td>\n",
       "      <td>...</td>\n",
       "      <td>...</td>\n",
       "      <td>...</td>\n",
       "    </tr>\n",
       "    <tr>\n",
       "      <th>️</th>\n",
       "      <td>0.032099</td>\n",
       "      <td>0.007407</td>\n",
       "      <td>0.000000</td>\n",
       "      <td>0.009877</td>\n",
       "      <td>0.002469</td>\n",
       "      <td>0.027160</td>\n",
       "      <td>0.044444</td>\n",
       "      <td>0.074074</td>\n",
       "      <td>0.049383</td>\n",
       "      <td>0.753086</td>\n",
       "    </tr>\n",
       "    <tr>\n",
       "      <th>👏</th>\n",
       "      <td>0.004505</td>\n",
       "      <td>0.000000</td>\n",
       "      <td>0.000000</td>\n",
       "      <td>0.000000</td>\n",
       "      <td>0.000000</td>\n",
       "      <td>0.000000</td>\n",
       "      <td>0.013514</td>\n",
       "      <td>0.126126</td>\n",
       "      <td>0.090090</td>\n",
       "      <td>0.765766</td>\n",
       "    </tr>\n",
       "    <tr>\n",
       "      <th>😍</th>\n",
       "      <td>0.000000</td>\n",
       "      <td>0.000000</td>\n",
       "      <td>0.000000</td>\n",
       "      <td>0.008955</td>\n",
       "      <td>0.011940</td>\n",
       "      <td>0.008955</td>\n",
       "      <td>0.002985</td>\n",
       "      <td>0.098507</td>\n",
       "      <td>0.092537</td>\n",
       "      <td>0.776119</td>\n",
       "    </tr>\n",
       "    <tr>\n",
       "      <th>❤</th>\n",
       "      <td>0.000000</td>\n",
       "      <td>0.002358</td>\n",
       "      <td>0.000000</td>\n",
       "      <td>0.004717</td>\n",
       "      <td>0.002358</td>\n",
       "      <td>0.014151</td>\n",
       "      <td>0.023585</td>\n",
       "      <td>0.075472</td>\n",
       "      <td>0.066038</td>\n",
       "      <td>0.811321</td>\n",
       "    </tr>\n",
       "    <tr>\n",
       "      <th>éxcéllent</th>\n",
       "      <td>0.000000</td>\n",
       "      <td>0.009804</td>\n",
       "      <td>0.009804</td>\n",
       "      <td>0.000000</td>\n",
       "      <td>0.009804</td>\n",
       "      <td>0.009804</td>\n",
       "      <td>0.000000</td>\n",
       "      <td>0.019608</td>\n",
       "      <td>0.107843</td>\n",
       "      <td>0.833333</td>\n",
       "    </tr>\n",
       "  </tbody>\n",
       "</table>\n",
       "<p>16744 rows × 10 columns</p>\n",
       "</div>"
      ],
      "text/plain": [
       "                                             0,5       1,0       1,5  \\\n",
       "Mou                                     0.264151  0.207547  0.169811   \n",
       "infection                               0.045455  0.072727  0.054545   \n",
       "https://m.facebook.com/la7emecritique/  0.000000  0.000000  0.022388   \n",
       "thisismymovies.over-blog.com            0.000000  0.005814  0.017442   \n",
       "mètrage                                 0.044643  0.022321  0.080357   \n",
       "...                                          ...       ...       ...   \n",
       "️                                       0.032099  0.007407  0.000000   \n",
       "👏                                       0.004505  0.000000  0.000000   \n",
       "😍                                       0.000000  0.000000  0.000000   \n",
       "❤                                       0.000000  0.002358  0.000000   \n",
       "éxcéllent                               0.000000  0.009804  0.009804   \n",
       "\n",
       "                                             2,0       2,5       3,0  \\\n",
       "Mou                                     0.169811  0.103774  0.037736   \n",
       "infection                               0.109091  0.118182  0.227273   \n",
       "https://m.facebook.com/la7emecritique/  0.037313  0.179104  0.328358   \n",
       "thisismymovies.over-blog.com            0.058140  0.058140  0.162791   \n",
       "mètrage                                 0.120536  0.160714  0.214286   \n",
       "...                                          ...       ...       ...   \n",
       "️                                       0.009877  0.002469  0.027160   \n",
       "👏                                       0.000000  0.000000  0.000000   \n",
       "😍                                       0.008955  0.011940  0.008955   \n",
       "❤                                       0.004717  0.002358  0.014151   \n",
       "éxcéllent                               0.000000  0.009804  0.009804   \n",
       "\n",
       "                                             3,5       4,0       4,5       5,0  \n",
       "Mou                                     0.009434  0.000000  0.037736  0.000000  \n",
       "infection                               0.154545  0.163636  0.054545  0.000000  \n",
       "https://m.facebook.com/la7emecritique/  0.268657  0.141791  0.022388  0.000000  \n",
       "thisismymovies.over-blog.com            0.296512  0.267442  0.133721  0.000000  \n",
       "mètrage                                 0.187500  0.165179  0.004464  0.000000  \n",
       "...                                          ...       ...       ...       ...  \n",
       "️                                       0.044444  0.074074  0.049383  0.753086  \n",
       "👏                                       0.013514  0.126126  0.090090  0.765766  \n",
       "😍                                       0.002985  0.098507  0.092537  0.776119  \n",
       "❤                                       0.023585  0.075472  0.066038  0.811321  \n",
       "éxcéllent                               0.000000  0.019608  0.107843  0.833333  \n",
       "\n",
       "[16744 rows x 10 columns]"
      ]
     },
     "metadata": {},
     "output_type": "display_data"
    },
    {
     "data": {
      "text/html": [
       "<div>\n",
       "<style scoped>\n",
       "    .dataframe tbody tr th:only-of-type {\n",
       "        vertical-align: middle;\n",
       "    }\n",
       "\n",
       "    .dataframe tbody tr th {\n",
       "        vertical-align: top;\n",
       "    }\n",
       "\n",
       "    .dataframe thead th {\n",
       "        text-align: right;\n",
       "    }\n",
       "</style>\n",
       "<table border=\"1\" class=\"dataframe\">\n",
       "  <thead>\n",
       "    <tr style=\"text-align: right;\">\n",
       "      <th></th>\n",
       "      <th>0,5</th>\n",
       "      <th>1,0</th>\n",
       "      <th>1,5</th>\n",
       "      <th>2,0</th>\n",
       "      <th>2,5</th>\n",
       "      <th>3,0</th>\n",
       "      <th>3,5</th>\n",
       "      <th>4,0</th>\n",
       "      <th>4,5</th>\n",
       "      <th>5,0</th>\n",
       "    </tr>\n",
       "  </thead>\n",
       "  <tbody>\n",
       "    <tr>\n",
       "      <th>musicalité</th>\n",
       "      <td>0.000000</td>\n",
       "      <td>0.045872</td>\n",
       "      <td>0.045872</td>\n",
       "      <td>0.036697</td>\n",
       "      <td>0.073394</td>\n",
       "      <td>0.100917</td>\n",
       "      <td>0.155963</td>\n",
       "      <td>0.238532</td>\n",
       "      <td>0.137615</td>\n",
       "      <td>0.165138</td>\n",
       "    </tr>\n",
       "    <tr>\n",
       "      <th>Wade</th>\n",
       "      <td>0.000000</td>\n",
       "      <td>0.012987</td>\n",
       "      <td>0.038961</td>\n",
       "      <td>0.071429</td>\n",
       "      <td>0.025974</td>\n",
       "      <td>0.142857</td>\n",
       "      <td>0.220779</td>\n",
       "      <td>0.227273</td>\n",
       "      <td>0.116883</td>\n",
       "      <td>0.142857</td>\n",
       "    </tr>\n",
       "    <tr>\n",
       "      <th>virtuos</th>\n",
       "      <td>0.000000</td>\n",
       "      <td>0.009434</td>\n",
       "      <td>0.009434</td>\n",
       "      <td>0.028302</td>\n",
       "      <td>0.018868</td>\n",
       "      <td>0.103774</td>\n",
       "      <td>0.150943</td>\n",
       "      <td>0.235849</td>\n",
       "      <td>0.226415</td>\n",
       "      <td>0.216981</td>\n",
       "    </tr>\n",
       "    <tr>\n",
       "      <th>multiplicité</th>\n",
       "      <td>0.000000</td>\n",
       "      <td>0.015267</td>\n",
       "      <td>0.000000</td>\n",
       "      <td>0.091603</td>\n",
       "      <td>0.122137</td>\n",
       "      <td>0.129771</td>\n",
       "      <td>0.236641</td>\n",
       "      <td>0.221374</td>\n",
       "      <td>0.114504</td>\n",
       "      <td>0.068702</td>\n",
       "    </tr>\n",
       "    <tr>\n",
       "      <th>imbrique</th>\n",
       "      <td>0.000000</td>\n",
       "      <td>0.007812</td>\n",
       "      <td>0.023438</td>\n",
       "      <td>0.054688</td>\n",
       "      <td>0.062500</td>\n",
       "      <td>0.101562</td>\n",
       "      <td>0.203125</td>\n",
       "      <td>0.296875</td>\n",
       "      <td>0.101562</td>\n",
       "      <td>0.148438</td>\n",
       "    </tr>\n",
       "    <tr>\n",
       "      <th>...</th>\n",
       "      <td>...</td>\n",
       "      <td>...</td>\n",
       "      <td>...</td>\n",
       "      <td>...</td>\n",
       "      <td>...</td>\n",
       "      <td>...</td>\n",
       "      <td>...</td>\n",
       "      <td>...</td>\n",
       "      <td>...</td>\n",
       "      <td>...</td>\n",
       "    </tr>\n",
       "    <tr>\n",
       "      <th>0,5</th>\n",
       "      <td>0.576923</td>\n",
       "      <td>0.101648</td>\n",
       "      <td>0.065934</td>\n",
       "      <td>0.013736</td>\n",
       "      <td>0.019231</td>\n",
       "      <td>0.019231</td>\n",
       "      <td>0.057692</td>\n",
       "      <td>0.035714</td>\n",
       "      <td>0.082418</td>\n",
       "      <td>0.027473</td>\n",
       "    </tr>\n",
       "    <tr>\n",
       "      <th>Navet</th>\n",
       "      <td>0.604545</td>\n",
       "      <td>0.227273</td>\n",
       "      <td>0.045455</td>\n",
       "      <td>0.040909</td>\n",
       "      <td>0.022727</td>\n",
       "      <td>0.000000</td>\n",
       "      <td>0.018182</td>\n",
       "      <td>0.018182</td>\n",
       "      <td>0.000000</td>\n",
       "      <td>0.022727</td>\n",
       "    </tr>\n",
       "    <tr>\n",
       "      <th>daub</th>\n",
       "      <td>0.610849</td>\n",
       "      <td>0.209906</td>\n",
       "      <td>0.070755</td>\n",
       "      <td>0.033019</td>\n",
       "      <td>0.002358</td>\n",
       "      <td>0.023585</td>\n",
       "      <td>0.016509</td>\n",
       "      <td>0.018868</td>\n",
       "      <td>0.007075</td>\n",
       "      <td>0.007075</td>\n",
       "    </tr>\n",
       "    <tr>\n",
       "      <th>fuyez</th>\n",
       "      <td>0.664557</td>\n",
       "      <td>0.246835</td>\n",
       "      <td>0.044304</td>\n",
       "      <td>0.018987</td>\n",
       "      <td>0.006329</td>\n",
       "      <td>0.006329</td>\n",
       "      <td>0.000000</td>\n",
       "      <td>0.006329</td>\n",
       "      <td>0.000000</td>\n",
       "      <td>0.006329</td>\n",
       "    </tr>\n",
       "    <tr>\n",
       "      <th>Nullissime</th>\n",
       "      <td>0.743017</td>\n",
       "      <td>0.167598</td>\n",
       "      <td>0.033520</td>\n",
       "      <td>0.027933</td>\n",
       "      <td>0.016760</td>\n",
       "      <td>0.000000</td>\n",
       "      <td>0.005587</td>\n",
       "      <td>0.000000</td>\n",
       "      <td>0.000000</td>\n",
       "      <td>0.005587</td>\n",
       "    </tr>\n",
       "  </tbody>\n",
       "</table>\n",
       "<p>16744 rows × 10 columns</p>\n",
       "</div>"
      ],
      "text/plain": [
       "                   0,5       1,0       1,5       2,0       2,5       3,0  \\\n",
       "musicalité    0.000000  0.045872  0.045872  0.036697  0.073394  0.100917   \n",
       "Wade          0.000000  0.012987  0.038961  0.071429  0.025974  0.142857   \n",
       "virtuos       0.000000  0.009434  0.009434  0.028302  0.018868  0.103774   \n",
       "multiplicité  0.000000  0.015267  0.000000  0.091603  0.122137  0.129771   \n",
       "imbrique      0.000000  0.007812  0.023438  0.054688  0.062500  0.101562   \n",
       "...                ...       ...       ...       ...       ...       ...   \n",
       "0,5           0.576923  0.101648  0.065934  0.013736  0.019231  0.019231   \n",
       "Navet         0.604545  0.227273  0.045455  0.040909  0.022727  0.000000   \n",
       "daub          0.610849  0.209906  0.070755  0.033019  0.002358  0.023585   \n",
       "fuyez         0.664557  0.246835  0.044304  0.018987  0.006329  0.006329   \n",
       "Nullissime    0.743017  0.167598  0.033520  0.027933  0.016760  0.000000   \n",
       "\n",
       "                   3,5       4,0       4,5       5,0  \n",
       "musicalité    0.155963  0.238532  0.137615  0.165138  \n",
       "Wade          0.220779  0.227273  0.116883  0.142857  \n",
       "virtuos       0.150943  0.235849  0.226415  0.216981  \n",
       "multiplicité  0.236641  0.221374  0.114504  0.068702  \n",
       "imbrique      0.203125  0.296875  0.101562  0.148438  \n",
       "...                ...       ...       ...       ...  \n",
       "0,5           0.057692  0.035714  0.082418  0.027473  \n",
       "Navet         0.018182  0.018182  0.000000  0.022727  \n",
       "daub          0.016509  0.018868  0.007075  0.007075  \n",
       "fuyez         0.000000  0.006329  0.000000  0.006329  \n",
       "Nullissime    0.005587  0.000000  0.000000  0.005587  \n",
       "\n",
       "[16744 rows x 10 columns]"
      ]
     },
     "execution_count": 36,
     "metadata": {},
     "output_type": "execute_result"
    }
   ],
   "source": [
    "display(word_proportion.sort_values(by=\"5,0\"))\n",
    "word_proportion"
   ]
  },
  {
   "cell_type": "code",
   "execution_count": 18,
   "metadata": {},
   "outputs": [
    {
     "name": "stderr",
     "output_type": "stream",
     "text": [
      "C:\\Users\\Baptiste Quay\\AppData\\Local\\Temp\\ipykernel_1852\\464779937.py:4: FutureWarning: Dropping of nuisance columns in DataFrame reductions (with 'numeric_only=None') is deprecated; in a future version this will raise TypeError.  Select only valid columns before calling the reduction.\n",
      "  totals = bag_of_words.sum(axis='columns')\n"
     ]
    },
    {
     "data": {
      "text/plain": [
       "\"          1.0\n",
       "trouve     1.0\n",
       "face       1.0\n",
       ",          1.0\n",
       "tenir      1.0\n",
       "          ... \n",
       "Einar      1.0\n",
       "Footit     1.0\n",
       "Riggan     1.0\n",
       "Viguier    1.0\n",
       "Malony     1.0\n",
       "Length: 16744, dtype: float64"
      ]
     },
     "metadata": {},
     "output_type": "display_data"
    },
    {
     "data": {
      "text/plain": [
       "0.9422184601033033"
      ]
     },
     "metadata": {},
     "output_type": "display_data"
    }
   ],
   "source": [
    "# counting totals\n",
    "tot = 0\n",
    "cpt = 0\n",
    "totals = bag_of_words.sum(axis='columns')\n",
    "display(word_proportion.sum(axis='columns'))\n",
    "for value in totals.value_counts(normalize=True) :\n",
    "    tot+=value\n",
    "    cpt+=1\n",
    "    if cpt == 100 :\n",
    "        display(tot)\n",
    "        break\n"
   ]
  },
  {
   "cell_type": "code",
   "execution_count": 67,
   "metadata": {},
   "outputs": [],
   "source": [
    "totals.value_counts(normalize=True).to_csv('wordProportionData.csv')"
   ]
  },
  {
   "cell_type": "code",
   "execution_count": 7,
   "metadata": {},
   "outputs": [
    {
     "data": {
      "text/html": [
       "<div>\n",
       "<style scoped>\n",
       "    .dataframe tbody tr th:only-of-type {\n",
       "        vertical-align: middle;\n",
       "    }\n",
       "\n",
       "    .dataframe tbody tr th {\n",
       "        vertical-align: top;\n",
       "    }\n",
       "\n",
       "    .dataframe thead th {\n",
       "        text-align: right;\n",
       "    }\n",
       "</style>\n",
       "<table border=\"1\" class=\"dataframe\">\n",
       "  <thead>\n",
       "    <tr style=\"text-align: right;\">\n",
       "      <th></th>\n",
       "      <th>word</th>\n",
       "      <th>0,5</th>\n",
       "      <th>1,0</th>\n",
       "      <th>1,5</th>\n",
       "      <th>2,0</th>\n",
       "      <th>2,5</th>\n",
       "      <th>3,0</th>\n",
       "      <th>3,5</th>\n",
       "      <th>4,0</th>\n",
       "      <th>4,5</th>\n",
       "      <th>5,0</th>\n",
       "    </tr>\n",
       "  </thead>\n",
       "  <tbody>\n",
       "    <tr>\n",
       "      <th>0</th>\n",
       "      <td>\"</td>\n",
       "      <td>0.053274</td>\n",
       "      <td>0.048866</td>\n",
       "      <td>0.048161</td>\n",
       "      <td>0.092232</td>\n",
       "      <td>0.095250</td>\n",
       "      <td>0.159821</td>\n",
       "      <td>0.163251</td>\n",
       "      <td>0.183856</td>\n",
       "      <td>0.085960</td>\n",
       "      <td>0.069329</td>\n",
       "    </tr>\n",
       "    <tr>\n",
       "      <th>1</th>\n",
       "      <td>trouve</td>\n",
       "      <td>0.030982</td>\n",
       "      <td>0.033544</td>\n",
       "      <td>0.036050</td>\n",
       "      <td>0.078736</td>\n",
       "      <td>0.094655</td>\n",
       "      <td>0.173584</td>\n",
       "      <td>0.181102</td>\n",
       "      <td>0.199003</td>\n",
       "      <td>0.088128</td>\n",
       "      <td>0.084217</td>\n",
       "    </tr>\n",
       "    <tr>\n",
       "      <th>2</th>\n",
       "      <td>face</td>\n",
       "      <td>0.026747</td>\n",
       "      <td>0.033694</td>\n",
       "      <td>0.036386</td>\n",
       "      <td>0.071469</td>\n",
       "      <td>0.079762</td>\n",
       "      <td>0.147367</td>\n",
       "      <td>0.180930</td>\n",
       "      <td>0.218054</td>\n",
       "      <td>0.114541</td>\n",
       "      <td>0.091051</td>\n",
       "    </tr>\n",
       "    <tr>\n",
       "      <th>3</th>\n",
       "      <td>,</td>\n",
       "      <td>0.045250</td>\n",
       "      <td>0.044356</td>\n",
       "      <td>0.043619</td>\n",
       "      <td>0.086511</td>\n",
       "      <td>0.089802</td>\n",
       "      <td>0.148620</td>\n",
       "      <td>0.157631</td>\n",
       "      <td>0.193233</td>\n",
       "      <td>0.100366</td>\n",
       "      <td>0.090614</td>\n",
       "    </tr>\n",
       "    <tr>\n",
       "      <th>4</th>\n",
       "      <td>tenir</td>\n",
       "      <td>0.044114</td>\n",
       "      <td>0.036509</td>\n",
       "      <td>0.037168</td>\n",
       "      <td>0.072360</td>\n",
       "      <td>0.085067</td>\n",
       "      <td>0.156933</td>\n",
       "      <td>0.180866</td>\n",
       "      <td>0.211351</td>\n",
       "      <td>0.097149</td>\n",
       "      <td>0.078483</td>\n",
       "    </tr>\n",
       "    <tr>\n",
       "      <th>...</th>\n",
       "      <td>...</td>\n",
       "      <td>...</td>\n",
       "      <td>...</td>\n",
       "      <td>...</td>\n",
       "      <td>...</td>\n",
       "      <td>...</td>\n",
       "      <td>...</td>\n",
       "      <td>...</td>\n",
       "      <td>...</td>\n",
       "      <td>...</td>\n",
       "      <td>...</td>\n",
       "    </tr>\n",
       "    <tr>\n",
       "      <th>289428</th>\n",
       "      <td>richmond</td>\n",
       "      <td>0.000000</td>\n",
       "      <td>0.000000</td>\n",
       "      <td>0.000000</td>\n",
       "      <td>0.000000</td>\n",
       "      <td>0.000000</td>\n",
       "      <td>0.000000</td>\n",
       "      <td>0.000000</td>\n",
       "      <td>1.000000</td>\n",
       "      <td>0.000000</td>\n",
       "      <td>0.000000</td>\n",
       "    </tr>\n",
       "    <tr>\n",
       "      <th>289429</th>\n",
       "      <td>sneaker</td>\n",
       "      <td>0.000000</td>\n",
       "      <td>0.000000</td>\n",
       "      <td>0.000000</td>\n",
       "      <td>0.000000</td>\n",
       "      <td>0.000000</td>\n",
       "      <td>0.000000</td>\n",
       "      <td>0.000000</td>\n",
       "      <td>1.000000</td>\n",
       "      <td>0.000000</td>\n",
       "      <td>0.000000</td>\n",
       "    </tr>\n",
       "    <tr>\n",
       "      <th>289430</th>\n",
       "      <td>fierement</td>\n",
       "      <td>0.000000</td>\n",
       "      <td>0.000000</td>\n",
       "      <td>0.000000</td>\n",
       "      <td>0.000000</td>\n",
       "      <td>0.000000</td>\n",
       "      <td>1.000000</td>\n",
       "      <td>0.000000</td>\n",
       "      <td>0.000000</td>\n",
       "      <td>0.000000</td>\n",
       "      <td>0.000000</td>\n",
       "    </tr>\n",
       "    <tr>\n",
       "      <th>289431</th>\n",
       "      <td>consommation.violence</td>\n",
       "      <td>0.000000</td>\n",
       "      <td>0.000000</td>\n",
       "      <td>0.000000</td>\n",
       "      <td>0.000000</td>\n",
       "      <td>0.000000</td>\n",
       "      <td>1.000000</td>\n",
       "      <td>0.000000</td>\n",
       "      <td>0.000000</td>\n",
       "      <td>0.000000</td>\n",
       "      <td>0.000000</td>\n",
       "    </tr>\n",
       "    <tr>\n",
       "      <th>289432</th>\n",
       "      <td>renforçe</td>\n",
       "      <td>0.000000</td>\n",
       "      <td>0.000000</td>\n",
       "      <td>0.000000</td>\n",
       "      <td>0.000000</td>\n",
       "      <td>0.000000</td>\n",
       "      <td>1.000000</td>\n",
       "      <td>0.000000</td>\n",
       "      <td>0.000000</td>\n",
       "      <td>0.000000</td>\n",
       "      <td>0.000000</td>\n",
       "    </tr>\n",
       "  </tbody>\n",
       "</table>\n",
       "<p>289433 rows × 11 columns</p>\n",
       "</div>"
      ],
      "text/plain": [
       "                         word       0,5       1,0       1,5       2,0  \\\n",
       "0                           \"  0.053274  0.048866  0.048161  0.092232   \n",
       "1                      trouve  0.030982  0.033544  0.036050  0.078736   \n",
       "2                        face  0.026747  0.033694  0.036386  0.071469   \n",
       "3                           ,  0.045250  0.044356  0.043619  0.086511   \n",
       "4                       tenir  0.044114  0.036509  0.037168  0.072360   \n",
       "...                       ...       ...       ...       ...       ...   \n",
       "289428               richmond  0.000000  0.000000  0.000000  0.000000   \n",
       "289429                sneaker  0.000000  0.000000  0.000000  0.000000   \n",
       "289430              fierement  0.000000  0.000000  0.000000  0.000000   \n",
       "289431  consommation.violence  0.000000  0.000000  0.000000  0.000000   \n",
       "289432               renforçe  0.000000  0.000000  0.000000  0.000000   \n",
       "\n",
       "             2,5       3,0       3,5       4,0       4,5       5,0  \n",
       "0       0.095250  0.159821  0.163251  0.183856  0.085960  0.069329  \n",
       "1       0.094655  0.173584  0.181102  0.199003  0.088128  0.084217  \n",
       "2       0.079762  0.147367  0.180930  0.218054  0.114541  0.091051  \n",
       "3       0.089802  0.148620  0.157631  0.193233  0.100366  0.090614  \n",
       "4       0.085067  0.156933  0.180866  0.211351  0.097149  0.078483  \n",
       "...          ...       ...       ...       ...       ...       ...  \n",
       "289428  0.000000  0.000000  0.000000  1.000000  0.000000  0.000000  \n",
       "289429  0.000000  0.000000  0.000000  1.000000  0.000000  0.000000  \n",
       "289430  0.000000  1.000000  0.000000  0.000000  0.000000  0.000000  \n",
       "289431  0.000000  1.000000  0.000000  0.000000  0.000000  0.000000  \n",
       "289432  0.000000  1.000000  0.000000  0.000000  0.000000  0.000000  \n",
       "\n",
       "[289433 rows x 11 columns]"
      ]
     },
     "execution_count": 7,
     "metadata": {},
     "output_type": "execute_result"
    }
   ],
   "source": [
    "# fetching word proportion from csv\n",
    "word_proportion : pd.DataFrame = pd.read_csv(\"data/wordProportionData.csv\")\n",
    "word_proportion"
   ]
  },
  {
   "cell_type": "code",
   "execution_count": 25,
   "metadata": {},
   "outputs": [
    {
     "data": {
      "image/png": "[encoded data removed]",
      "text/plain": [
       "<Figure size 640x480 with 1 Axes>"
      ]
     },
     "metadata": {},
     "output_type": "display_data"
    }
   ],
   "source": [
    "# 1 Nombres de critiques par notes\n",
    "s = df['note'].value_counts()\n",
    "s = s.sort_index()\n",
    "fig = plt.figure()\n",
    "s.plot.bar()\n",
    "\n",
    "plt.xlabel(\"note\")\n",
    "plt.ylabel(\"nombre de critiques\")\n",
    "plt.show()"
   ]
  },
  {
   "cell_type": "code",
   "execution_count": 42,
   "metadata": {},
   "outputs": [
    {
     "data": {
      "text/html": [
       "<div>\n",
       "<style scoped>\n",
       "    .dataframe tbody tr th:only-of-type {\n",
       "        vertical-align: middle;\n",
       "    }\n",
       "\n",
       "    .dataframe tbody tr th {\n",
       "        vertical-align: top;\n",
       "    }\n",
       "\n",
       "    .dataframe thead th {\n",
       "        text-align: right;\n",
       "    }\n",
       "</style>\n",
       "<table border=\"1\" class=\"dataframe\">\n",
       "  <thead>\n",
       "    <tr style=\"text-align: right;\">\n",
       "      <th></th>\n",
       "      <th>movie</th>\n",
       "      <th>review_id</th>\n",
       "      <th>name</th>\n",
       "      <th>user_id</th>\n",
       "      <th>note</th>\n",
       "      <th>commentaire</th>\n",
       "    </tr>\n",
       "  </thead>\n",
       "  <tbody>\n",
       "    <tr>\n",
       "      <th>611583</th>\n",
       "      <td>223484</td>\n",
       "      <td>review_43345747</td>\n",
       "      <td>wallaby</td>\n",
       "      <td>Z20010209190420907241533</td>\n",
       "      <td>4,0</td>\n",
       "      <td>Un joli film d'auteur. Dès le début, on pense ...</td>\n",
       "    </tr>\n",
       "    <tr>\n",
       "      <th>407647</th>\n",
       "      <td>251179</td>\n",
       "      <td>review_57574403</td>\n",
       "      <td>wallaby</td>\n",
       "      <td>Z20010209190420907241533</td>\n",
       "      <td>5,0</td>\n",
       "      <td>Frais, beau, bien interprété et cette calanque...</td>\n",
       "    </tr>\n",
       "    <tr>\n",
       "      <th>39088</th>\n",
       "      <td>215094</td>\n",
       "      <td>review_1001588959</td>\n",
       "      <td>wallaby</td>\n",
       "      <td>Z20010209190420907241533</td>\n",
       "      <td>1,0</td>\n",
       "      <td>Décevant. Bien que Daisy Ridley fasse de son m...</td>\n",
       "    </tr>\n",
       "    <tr>\n",
       "      <th>142642</th>\n",
       "      <td>234644</td>\n",
       "      <td>review_47614526</td>\n",
       "      <td>wallaby</td>\n",
       "      <td>Z20010209190420907241533</td>\n",
       "      <td>3,5</td>\n",
       "      <td>Film très intéressant qui m'a permis de connaî...</td>\n",
       "    </tr>\n",
       "    <tr>\n",
       "      <th>302308</th>\n",
       "      <td>224808</td>\n",
       "      <td>review_1002859153</td>\n",
       "      <td>wallaby</td>\n",
       "      <td>Z20010209190420907241533</td>\n",
       "      <td>3,0</td>\n",
       "      <td>Trop long ! Les 40 premières minutes ne sont p...</td>\n",
       "    </tr>\n",
       "    <tr>\n",
       "      <th>...</th>\n",
       "      <td>...</td>\n",
       "      <td>...</td>\n",
       "      <td>...</td>\n",
       "      <td>...</td>\n",
       "      <td>...</td>\n",
       "      <td>...</td>\n",
       "    </tr>\n",
       "    <tr>\n",
       "      <th>610654</th>\n",
       "      <td>236089</td>\n",
       "      <td>review_1007272091</td>\n",
       "      <td>Thierry Oliver</td>\n",
       "      <td>Z20200518204014587888889</td>\n",
       "      <td>0,5</td>\n",
       "      <td>C'est à mon avis une daube monumentale. Sans a...</td>\n",
       "    </tr>\n",
       "    <tr>\n",
       "      <th>574817</th>\n",
       "      <td>264784</td>\n",
       "      <td>review_1007273863</td>\n",
       "      <td>Powerlithium</td>\n",
       "      <td>Z20200518215109555299217</td>\n",
       "      <td>4,5</td>\n",
       "      <td>Incroyable, Cyril nous prouve qu'il est possib...</td>\n",
       "    </tr>\n",
       "    <tr>\n",
       "      <th>404150</th>\n",
       "      <td>238378</td>\n",
       "      <td>review_1007274376</td>\n",
       "      <td>Victor LM</td>\n",
       "      <td>Z20200518221244892307441</td>\n",
       "      <td>0,5</td>\n",
       "      <td>Le film est dépourvu de scène drôle mais est r...</td>\n",
       "    </tr>\n",
       "    <tr>\n",
       "      <th>663656</th>\n",
       "      <td>241132</td>\n",
       "      <td>review_1007285816</td>\n",
       "      <td>Agathe Nogues</td>\n",
       "      <td>Z20200519030838474204775</td>\n",
       "      <td>5,0</td>\n",
       "      <td>Un film incroyable! Ce film est à la fois touc...</td>\n",
       "    </tr>\n",
       "    <tr>\n",
       "      <th>664489</th>\n",
       "      <td>247810</td>\n",
       "      <td>review_1007286675</td>\n",
       "      <td>Mina Traoré</td>\n",
       "      <td>Z20200519042856506959012</td>\n",
       "      <td>1,0</td>\n",
       "      <td>On a perdu 1h 30 de notre vie pour ce film inc...</td>\n",
       "    </tr>\n",
       "  </tbody>\n",
       "</table>\n",
       "<p>665962 rows × 6 columns</p>\n",
       "</div>"
      ],
      "text/plain": [
       "         movie          review_id            name                   user_id  \\\n",
       "611583  223484    review_43345747         wallaby  Z20010209190420907241533   \n",
       "407647  251179    review_57574403         wallaby  Z20010209190420907241533   \n",
       "39088   215094  review_1001588959         wallaby  Z20010209190420907241533   \n",
       "142642  234644    review_47614526         wallaby  Z20010209190420907241533   \n",
       "302308  224808  review_1002859153         wallaby  Z20010209190420907241533   \n",
       "...        ...                ...             ...                       ...   \n",
       "610654  236089  review_1007272091  Thierry Oliver  Z20200518204014587888889   \n",
       "574817  264784  review_1007273863    Powerlithium  Z20200518215109555299217   \n",
       "404150  238378  review_1007274376       Victor LM  Z20200518221244892307441   \n",
       "663656  241132  review_1007285816   Agathe Nogues  Z20200519030838474204775   \n",
       "664489  247810  review_1007286675     Mina Traoré  Z20200519042856506959012   \n",
       "\n",
       "       note                                        commentaire  \n",
       "611583  4,0  Un joli film d'auteur. Dès le début, on pense ...  \n",
       "407647  5,0  Frais, beau, bien interprété et cette calanque...  \n",
       "39088   1,0  Décevant. Bien que Daisy Ridley fasse de son m...  \n",
       "142642  3,5  Film très intéressant qui m'a permis de connaî...  \n",
       "302308  3,0  Trop long ! Les 40 premières minutes ne sont p...  \n",
       "...     ...                                                ...  \n",
       "610654  0,5  C'est à mon avis une daube monumentale. Sans a...  \n",
       "574817  4,5  Incroyable, Cyril nous prouve qu'il est possib...  \n",
       "404150  0,5  Le film est dépourvu de scène drôle mais est r...  \n",
       "663656  5,0  Un film incroyable! Ce film est à la fois touc...  \n",
       "664489  1,0  On a perdu 1h 30 de notre vie pour ce film inc...  \n",
       "\n",
       "[665962 rows x 6 columns]"
      ]
     },
     "execution_count": 42,
     "metadata": {},
     "output_type": "execute_result"
    }
   ],
   "source": [
    "df.sort_values(by=\"user_id\", inplace=True)\n",
    "df"
   ]
  },
  {
   "cell_type": "code",
   "execution_count": 43,
   "metadata": {},
   "outputs": [
    {
     "name": "stderr",
     "output_type": "stream",
     "text": [
      "100%|██████████| 665962/665962 [00:02<00:00, 322775.60it/s]\n"
     ]
    }
   ],
   "source": [
    "# 2 moyenne des notes par utilisateurs\n",
    "tmp_user = 'Z20010209190420907241533'\n",
    "total = 0\n",
    "note_nbr = 0\n",
    "means = []\n",
    "df.sort_values(by=\"user_id\", inplace=True)\n",
    "for user, note in tqdm(df[['user_id', 'note']].to_numpy()) :\n",
    "    if tmp_user != user :\n",
    "        tmp_user = user\n",
    "        # round((total/note_nbr) * 2) / 2 si on veut des valeurs sur 0.5, 1, 1.5 etc\n",
    "        means.append(round((total/note_nbr) * 2)/2)\n",
    "        total, note_nbr = 0, 0\n",
    "\n",
    "    total += float(note.replace(\",\",\".\"))\n",
    "    note_nbr += 1\n"
   ]
  },
  {
   "cell_type": "code",
   "execution_count": 44,
   "metadata": {},
   "outputs": [
    {
     "data": {
      "image/png": "[encoded data removed]",
      "text/plain": [
       "<Figure size 640x480 with 1 Axes>"
      ]
     },
     "metadata": {},
     "output_type": "display_data"
    }
   ],
   "source": [
    "means.sort()\n",
    "dict_means = dict(zip(notes, [0, 0, 0, 0, 0, 0, 0, 0, 0, 0]))\n",
    "for i in means :\n",
    "    if i == 0.5 :\n",
    "        dict_means[\"0,5\"] += 1\n",
    "    elif i == 1 :\n",
    "        dict_means[\"1,0\"] += 1\n",
    "    elif i == 1.5 :\n",
    "        dict_means[\"1,5\"] += 1\n",
    "    elif i == 2 :\n",
    "        dict_means[\"2,0\"] += 1\n",
    "    elif i == 2.5 :\n",
    "        dict_means[\"2,5\"] += 1\n",
    "    elif i == 3 :\n",
    "        dict_means[\"3,0\"] += 1\n",
    "    elif i == 3.5 :\n",
    "        dict_means[\"3,5\"] += 1\n",
    "    elif i == 4 :\n",
    "        dict_means[\"4,0\"] += 1\n",
    "    elif i == 4.5 :\n",
    "        dict_means[\"4,5\"] += 1\n",
    "    elif i == 5 :\n",
    "        dict_means[\"5,0\"] += 1\n",
    "plt.bar(dict_means.keys(), dict_means.values())\n",
    "plt.xlabel(\"note moyenne\")\n",
    "plt.ylabel(\"nombre d'utilisateur\")\n",
    "plt.show()"
   ]
  },
  {
   "cell_type": "code",
   "execution_count": 45,
   "metadata": {},
   "outputs": [
    {
     "data": {
      "text/plain": [
       "user_id\n",
       "Z20200519042856506959012       1\n",
       "Z20120916195228527425638       1\n",
       "Z20120916194606280192665       1\n",
       "Z20180317131024293698531       1\n",
       "Z20180317131737157866948       1\n",
       "                            ... \n",
       "Z20051202210829790363634    1292\n",
       "Z20121030010419857506421    1319\n",
       "Z20030916115310953701324    1392\n",
       "Z20110911192312063343373    1447\n",
       "Z20051105131449940367618    1740\n",
       "Length: 119666, dtype: int64"
      ]
     },
     "execution_count": 45,
     "metadata": {},
     "output_type": "execute_result"
    }
   ],
   "source": [
    "# 2 nombre de critiques par user :\n",
    "\n",
    "occur = df.groupby(['user_id']).size()\n",
    "sorted_occur = occur.sort_values()\n",
    "sorted_occur"
   ]
  },
  {
   "cell_type": "code",
   "execution_count": 48,
   "metadata": {},
   "outputs": [
    {
     "data": {
      "image/png": "[encoded data removed]",
      "text/plain": [
       "<Figure size 640x480 with 1 Axes>"
      ]
     },
     "metadata": {},
     "output_type": "display_data"
    }
   ],
   "source": [
    "plt.plot(np.log(sorted_occur.values))\n",
    "plt.xlabel(\"nombre d'utilisateur\")\n",
    "plt.ylabel(\"log(nombre de critique)\")\n",
    "plt.show()"
   ]
  },
  {
   "cell_type": "code",
   "execution_count": 57,
   "metadata": {},
   "outputs": [
    {
     "name": "stderr",
     "output_type": "stream",
     "text": [
      "100%|██████████| 665962/665962 [00:02<00:00, 326475.39it/s]\n"
     ]
    }
   ],
   "source": [
    "# 2 Analyse des utilisateurs (moyenne des notes par utilisateurs)\n",
    "tmp_user = ''\n",
    "total = 0\n",
    "note_nbr = 0\n",
    "means = []\n",
    "df.sort_values(by=\"user_id\", inplace=True)\n",
    "for user, note in tqdm(df[['user_id', 'note']].to_numpy()) :\n",
    "    if tmp_user != user and total != 0:\n",
    "        tmp_user = user\n",
    "        # round((total/note_nbr) * 2) / 2 si on veut des valeurs sur 0.5, 1, 1.5 etc\n",
    "        if total > 4 : \n",
    "            means.append(round((total/note_nbr) * 2)/2)\n",
    "        total, note_nbr = 0, 0\n",
    "\n",
    "    total += float(note.replace(\",\",\".\"))\n",
    "    note_nbr += 1"
   ]
  },
  {
   "cell_type": "code",
   "execution_count": 58,
   "metadata": {},
   "outputs": [
    {
     "data": {
      "image/png": "[encoded data removed]",
      "text/plain": [
       "<Figure size 640x480 with 1 Axes>"
      ]
     },
     "metadata": {},
     "output_type": "display_data"
    }
   ],
   "source": [
    "means.sort()\n",
    "dict_means = dict(zip(notes, [0, 0, 0, 0, 0, 0, 0, 0, 0, 0]))\n",
    "for i in means :\n",
    "    if i == 0.5 :\n",
    "        dict_means[\"0,5\"] += 1\n",
    "    elif i == 1 :\n",
    "        dict_means[\"1,0\"] += 1\n",
    "    elif i == 1.5 :\n",
    "        dict_means[\"1,5\"] += 1\n",
    "    elif i == 2 :\n",
    "        dict_means[\"2,0\"] += 1\n",
    "    elif i == 2.5 :\n",
    "        dict_means[\"2,5\"] += 1\n",
    "    elif i == 3 :\n",
    "        dict_means[\"3,0\"] += 1\n",
    "    elif i == 3.5 :\n",
    "        dict_means[\"3,5\"] += 1\n",
    "    elif i == 4 :\n",
    "        dict_means[\"4,0\"] += 1\n",
    "    elif i == 4.5 :\n",
    "        dict_means[\"4,5\"] += 1\n",
    "    elif i == 5 :\n",
    "        dict_means[\"5,0\"] += 1\n",
    "plt.bar(dict_means.keys(), dict_means.values())\n",
    "plt.xlabel(\"note moyenne\")\n",
    "plt.ylabel(\"nombre d'utilisateurs\")\n",
    "plt.show()"
   ]
  },
  {
   "cell_type": "code",
   "execution_count": 59,
   "metadata": {},
   "outputs": [
    {
     "data": {
      "text/plain": [
       "movie\n",
       "228607       1\n",
       "269944       1\n",
       "257280       1\n",
       "248487       1\n",
       "270017       1\n",
       "          ... \n",
       "215094    1480\n",
       "222512    1503\n",
       "212120    1538\n",
       "217882    1864\n",
       "237821    1871\n",
       "Length: 3202, dtype: int64"
      ]
     },
     "execution_count": 59,
     "metadata": {},
     "output_type": "execute_result"
    }
   ],
   "source": [
    "# 2 nombre de critiques par film :\n",
    "\n",
    "occur = df.groupby(['movie']).size()\n",
    "sorted_occur = occur.sort_values()\n",
    "sorted_occur"
   ]
  },
  {
   "cell_type": "code",
   "execution_count": 64,
   "metadata": {},
   "outputs": [
    {
     "data": {
      "image/png": "[encoded data removed]",
      "text/plain": [
       "<Figure size 640x480 with 1 Axes>"
      ]
     },
     "metadata": {},
     "output_type": "display_data"
    }
   ],
   "source": [
    "plt.plot(np.log(sorted_occur.values))\n",
    "plt.xlabel(\"nombre de film\")\n",
    "plt.ylabel(\"log(nombre de critique)\")\n",
    "plt.show()"
   ]
  },
  {
   "cell_type": "code",
   "execution_count": 51,
   "metadata": {},
   "outputs": [
    {
     "name": "stderr",
     "output_type": "stream",
     "text": [
      "100%|██████████| 665962/665962 [00:01<00:00, 346912.19it/s]\n"
     ]
    }
   ],
   "source": [
    "# 3 Analyse des films (moyenne des notes par films)\n",
    "\n",
    "tmp_movie = ''\n",
    "total = 0\n",
    "note_nbr = 0\n",
    "means = []\n",
    "df.sort_values(by=\"movie\", inplace=True)\n",
    "for movie, note in tqdm(df[['movie', 'note']].to_numpy()) :\n",
    "    if tmp_movie != movie and total != 0:\n",
    "        tmp_movie = movie\n",
    "        # round((total/note_nbr) * 2) / 2 si on veut des valeurs sur 0.5, 1, 1.5 etc\n",
    "        means.append(round((total/note_nbr) * 2)/2)\n",
    "        total, note_nbr = 0, 0\n",
    "\n",
    "    total += float(note.replace(\",\",\".\"))\n",
    "    note_nbr += 1\n"
   ]
  },
  {
   "cell_type": "code",
   "execution_count": 52,
   "metadata": {},
   "outputs": [
    {
     "data": {
      "image/png": "[encoded data removed]",
      "text/plain": [
       "<Figure size 640x480 with 1 Axes>"
      ]
     },
     "metadata": {},
     "output_type": "display_data"
    }
   ],
   "source": [
    "means.sort()\n",
    "dict_means = dict(zip(notes, [0, 0, 0, 0, 0, 0, 0, 0, 0, 0]))\n",
    "for i in means :\n",
    "    if i == 0.5 :\n",
    "        dict_means[\"0,5\"] += 1\n",
    "    elif i == 1 :\n",
    "        dict_means[\"1,0\"] += 1\n",
    "    elif i == 1.5 :\n",
    "        dict_means[\"1,5\"] += 1\n",
    "    elif i == 2 :\n",
    "        dict_means[\"2,0\"] += 1\n",
    "    elif i == 2.5 :\n",
    "        dict_means[\"2,5\"] += 1\n",
    "    elif i == 3 :\n",
    "        dict_means[\"3,0\"] += 1\n",
    "    elif i == 3.5 :\n",
    "        dict_means[\"3,5\"] += 1\n",
    "    elif i == 4 :\n",
    "        dict_means[\"4,0\"] += 1\n",
    "    elif i == 4.5 :\n",
    "        dict_means[\"4,5\"] += 1\n",
    "    elif i == 5 :\n",
    "        dict_means[\"5,0\"] += 1\n",
    "plt.bar(dict_means.keys(), dict_means.values())\n",
    "plt.xlabel(\"note moyenne\")\n",
    "plt.ylabel(\"nombre de films\")\n",
    "plt.show()"
   ]
  },
  {
   "cell_type": "code",
   "execution_count": 21,
   "metadata": {},
   "outputs": [
    {
     "ename": "NameError",
     "evalue": "name 'word_cloud' is not defined",
     "output_type": "error",
     "traceback": [
      "\u001b[1;31m---------------------------------------------------------------------------\u001b[0m",
      "\u001b[1;31mNameError\u001b[0m                                 Traceback (most recent call last)",
      "Cell \u001b[1;32mIn [21], line 5\u001b[0m\n\u001b[0;32m      1\u001b[0m \u001b[39m# 4.1 distribution des mots les plus fréquents par note\u001b[39;00m\n\u001b[0;32m      2\u001b[0m \n\u001b[0;32m      3\u001b[0m \u001b[39m# WordCloud creation\u001b[39;00m\n\u001b[0;32m      4\u001b[0m note \u001b[39m=\u001b[39m \u001b[39m\"\u001b[39m\u001b[39m0,5\u001b[39m\u001b[39m\"\u001b[39m\n\u001b[1;32m----> 5\u001b[0m text \u001b[39m=\u001b[39m word_cloud\u001b[39m.\u001b[39mloc[\u001b[39m\"\u001b[39m\u001b[39mtext\u001b[39m\u001b[39m\"\u001b[39m]\u001b[39m.\u001b[39mloc[note]\n\u001b[0;32m      7\u001b[0m \u001b[39m# lower max_font_size\u001b[39;00m\n\u001b[0;32m      8\u001b[0m wordcloud \u001b[39m=\u001b[39m WordCloud(max_font_size\u001b[39m=\u001b[39m\u001b[39m40\u001b[39m)\u001b[39m.\u001b[39mgenerate(text)\n",
      "\u001b[1;31mNameError\u001b[0m: name 'word_cloud' is not defined"
     ]
    }
   ],
   "source": [
    "# 4.1 distribution des mots les plus fréquents par note\n",
    "\n",
    "# WordCloud creation\n",
    "note = \"0,5\"\n",
    "text = word_cloud.loc[\"text\"].loc[note]\n",
    "\n",
    "# lower max_font_size\n",
    "wordcloud = WordCloud(max_font_size=40).generate(text)\n",
    "plt.figure()\n",
    "plt.imshow(wordcloud, interpolation=\"bilinear\")\n",
    "plt.axis(\"off\")\n",
    "plt.show()"
   ]
  },
  {
   "cell_type": "code",
   "execution_count": 37,
   "metadata": {},
   "outputs": [
    {
     "data": {
      "image/png": "[encoded data removed]",
      "text/plain": [
       "<Figure size 640x480 with 1 Axes>"
      ]
     },
     "metadata": {},
     "output_type": "display_data"
    }
   ],
   "source": [
    "# wordcloud from frequency \n",
    "note = \"4,5\"\n",
    "d = {}\n",
    "cpt = 0\n",
    "for index, row in word_proportion.iterrows():\n",
    "    d[index] = row[note]\n",
    "    \n",
    "wordcloud = WordCloud(background_color='skyblue',width=1080, height=480, colormap=\"Reds\")\n",
    "wordcloud.generate_from_frequencies(frequencies=d)\n",
    "plt.figure()\n",
    "plt.imshow(wordcloud, interpolation=\"bilinear\")\n",
    "plt.axis(\"off\")\n",
    "plt.show()"
   ]
  },
  {
   "cell_type": "code",
   "execution_count": null,
   "metadata": {},
   "outputs": [],
   "source": [
    "# Word frequency sorted from higher to lower\n",
    "note = \"5,0\"\n",
    "text = word_cloud.loc[\"text\"].loc[note]\n",
    "word_frequency = WordCloud().process_text(text)\n",
    "frequency_list = sorted(word_frequency.items(), key=lambda item:item[1])\n",
    "frequency_list.reverse()\n",
    "for k, v in frequency_list :\n",
    "    print(k,v)\n"
   ]
  },
  {
   "cell_type": "code",
   "execution_count": 34,
   "metadata": {},
   "outputs": [
    {
     "data": {
      "text/plain": [
       "'Nullissime'"
      ]
     },
     "metadata": {},
     "output_type": "display_data"
    },
    {
     "data": {
      "text/plain": [
       "0.7430167597765364"
      ]
     },
     "metadata": {},
     "output_type": "display_data"
    },
    {
     "data": {
      "text/plain": [
       "'fuyez'"
      ]
     },
     "metadata": {},
     "output_type": "display_data"
    },
    {
     "data": {
      "text/plain": [
       "0.6645569620253164"
      ]
     },
     "metadata": {},
     "output_type": "display_data"
    },
    {
     "data": {
      "text/plain": [
       "'daub'"
      ]
     },
     "metadata": {},
     "output_type": "display_data"
    },
    {
     "data": {
      "text/plain": [
       "0.6108490566037735"
      ]
     },
     "metadata": {},
     "output_type": "display_data"
    },
    {
     "data": {
      "text/plain": [
       "'Navet'"
      ]
     },
     "metadata": {},
     "output_type": "display_data"
    },
    {
     "data": {
      "text/plain": [
       "0.6045454545454545"
      ]
     },
     "metadata": {},
     "output_type": "display_data"
    },
    {
     "data": {
      "text/plain": [
       "'0,5'"
      ]
     },
     "metadata": {},
     "output_type": "display_data"
    },
    {
     "data": {
      "text/plain": [
       "0.5769230769230769"
      ]
     },
     "metadata": {},
     "output_type": "display_data"
    },
    {
     "data": {
      "text/plain": [
       "'nullité'"
      ]
     },
     "metadata": {},
     "output_type": "display_data"
    },
    {
     "data": {
      "text/plain": [
       "0.5663531870428422"
      ]
     },
     "metadata": {},
     "output_type": "display_data"
    },
    {
     "data": {
      "text/plain": [
       "'bouze'"
      ]
     },
     "metadata": {},
     "output_type": "display_data"
    },
    {
     "data": {
      "text/plain": [
       "0.5298507462686567"
      ]
     },
     "metadata": {},
     "output_type": "display_data"
    },
    {
     "data": {
      "text/plain": [
       "'0.5'"
      ]
     },
     "metadata": {},
     "output_type": "display_data"
    },
    {
     "data": {
      "text/plain": [
       "0.5271317829457365"
      ]
     },
     "metadata": {},
     "output_type": "display_data"
    },
    {
     "data": {
      "text/plain": [
       "'bous'"
      ]
     },
     "metadata": {},
     "output_type": "display_data"
    },
    {
     "data": {
      "text/plain": [
       "0.5267175572519084"
      ]
     },
     "metadata": {},
     "output_type": "display_data"
    },
    {
     "data": {
      "image/png": "[encoded data removed]",
      "text/plain": [
       "<Figure size 640x480 with 1 Axes>"
      ]
     },
     "metadata": {},
     "output_type": "display_data"
    }
   ],
   "source": [
    "# Word proportion frequency\n",
    "note = \"0,5\"\n",
    "word_proportion.sort_values(by=note, inplace=True, ascending=False)\n",
    "for index, row in word_proportion.iterrows() :\n",
    "    if  row[note] > 0.5 :\n",
    "        display(index, row[note])\n",
    "plt.plot(word_proportion[note].values)\n",
    "plt.show()"
   ]
  },
  {
   "cell_type": "code",
   "execution_count": 6,
   "metadata": {},
   "outputs": [
    {
     "data": {
      "text/html": [
       "<div>\n",
       "<style scoped>\n",
       "    .dataframe tbody tr th:only-of-type {\n",
       "        vertical-align: middle;\n",
       "    }\n",
       "\n",
       "    .dataframe tbody tr th {\n",
       "        vertical-align: top;\n",
       "    }\n",
       "\n",
       "    .dataframe thead th {\n",
       "        text-align: right;\n",
       "    }\n",
       "</style>\n",
       "<table border=\"1\" class=\"dataframe\">\n",
       "  <thead>\n",
       "    <tr style=\"text-align: right;\">\n",
       "      <th></th>\n",
       "      <th>movie</th>\n",
       "      <th>review_id</th>\n",
       "      <th>name</th>\n",
       "      <th>user_id</th>\n",
       "      <th>note</th>\n",
       "      <th>commentaire</th>\n",
       "    </tr>\n",
       "  </thead>\n",
       "  <tbody>\n",
       "    <tr>\n",
       "      <th>332980</th>\n",
       "      <td>138880</td>\n",
       "      <td>review_27974143</td>\n",
       "      <td>SHWARZIE</td>\n",
       "      <td>Z20061223123237770658689</td>\n",
       "      <td>0,5</td>\n",
       "      <td>Une comédie américaine simplette remplie de bo...</td>\n",
       "    </tr>\n",
       "    <tr>\n",
       "      <th>56473</th>\n",
       "      <td>213893</td>\n",
       "      <td>review_42587965</td>\n",
       "      <td>Tom G.</td>\n",
       "      <td>Z20131228010156160823245</td>\n",
       "      <td>0,5</td>\n",
       "      <td>j'ai pluerer pendent  et apres le film. penden...</td>\n",
       "    </tr>\n",
       "    <tr>\n",
       "      <th>479474</th>\n",
       "      <td>223754</td>\n",
       "      <td>review_55108781</td>\n",
       "      <td>yvesA77</td>\n",
       "      <td>Z20131204165759710756173</td>\n",
       "      <td>0,5</td>\n",
       "      <td>Nanar intergalactique ! que de lenteurs ! ce n...</td>\n",
       "    </tr>\n",
       "    <tr>\n",
       "      <th>56487</th>\n",
       "      <td>213893</td>\n",
       "      <td>review_42184452</td>\n",
       "      <td>Alice S.</td>\n",
       "      <td>Z20140324161842360924388</td>\n",
       "      <td>0,5</td>\n",
       "      <td>On tombe dans tous les clichés de \"on n'est a ...</td>\n",
       "    </tr>\n",
       "    <tr>\n",
       "      <th>148914</th>\n",
       "      <td>132150</td>\n",
       "      <td>review_52261330</td>\n",
       "      <td>atomewarrior</td>\n",
       "      <td>Z20110303190024017478821</td>\n",
       "      <td>0,5</td>\n",
       "      <td>Des acteurs totalement inutiles avec ses effet...</td>\n",
       "    </tr>\n",
       "    <tr>\n",
       "      <th>...</th>\n",
       "      <td>...</td>\n",
       "      <td>...</td>\n",
       "      <td>...</td>\n",
       "      <td>...</td>\n",
       "      <td>...</td>\n",
       "      <td>...</td>\n",
       "    </tr>\n",
       "    <tr>\n",
       "      <th>447406</th>\n",
       "      <td>250865</td>\n",
       "      <td>review_1000364000</td>\n",
       "      <td>Fab</td>\n",
       "      <td>Z20190811173756577208973</td>\n",
       "      <td>5,0</td>\n",
       "      <td>Parfait remake du dessin animé. Will Smith est...</td>\n",
       "    </tr>\n",
       "    <tr>\n",
       "      <th>514914</th>\n",
       "      <td>193339</td>\n",
       "      <td>review_34975968</td>\n",
       "      <td>Rachel F.</td>\n",
       "      <td>Z20120930192804017273478</td>\n",
       "      <td>5,0</td>\n",
       "      <td>Un film magic ;) A voir absolument entre copin...</td>\n",
       "    </tr>\n",
       "    <tr>\n",
       "      <th>447409</th>\n",
       "      <td>250865</td>\n",
       "      <td>review_1001352623</td>\n",
       "      <td>Seb D.</td>\n",
       "      <td>Z20140602213416693308387</td>\n",
       "      <td>5,0</td>\n",
       "      <td>il a respecté le dessin animé de bout en bout ...</td>\n",
       "    </tr>\n",
       "    <tr>\n",
       "      <th>170029</th>\n",
       "      <td>132040</td>\n",
       "      <td>review_1000682005</td>\n",
       "      <td>Mango .</td>\n",
       "      <td>Z20020118163918793937245</td>\n",
       "      <td>5,0</td>\n",
       "      <td>Une tuerie orgasmique, papy rambo en a encore ...</td>\n",
       "    </tr>\n",
       "    <tr>\n",
       "      <th>607728</th>\n",
       "      <td>120782</td>\n",
       "      <td>review_18514235</td>\n",
       "      <td>fantomas02</td>\n",
       "      <td>Z20071230191326833597792</td>\n",
       "      <td>5,0</td>\n",
       "      <td>Un film émouvant, envoutant, captivant.. la mu...</td>\n",
       "    </tr>\n",
       "  </tbody>\n",
       "</table>\n",
       "<p>665962 rows × 6 columns</p>\n",
       "</div>"
      ],
      "text/plain": [
       "         movie          review_id          name                   user_id  \\\n",
       "332980  138880    review_27974143      SHWARZIE  Z20061223123237770658689   \n",
       "56473   213893    review_42587965        Tom G.  Z20131228010156160823245   \n",
       "479474  223754    review_55108781       yvesA77  Z20131204165759710756173   \n",
       "56487   213893    review_42184452      Alice S.  Z20140324161842360924388   \n",
       "148914  132150    review_52261330  atomewarrior  Z20110303190024017478821   \n",
       "...        ...                ...           ...                       ...   \n",
       "447406  250865  review_1000364000           Fab  Z20190811173756577208973   \n",
       "514914  193339    review_34975968     Rachel F.  Z20120930192804017273478   \n",
       "447409  250865  review_1001352623        Seb D.  Z20140602213416693308387   \n",
       "170029  132040  review_1000682005       Mango .  Z20020118163918793937245   \n",
       "607728  120782    review_18514235    fantomas02  Z20071230191326833597792   \n",
       "\n",
       "       note                                        commentaire  \n",
       "332980  0,5  Une comédie américaine simplette remplie de bo...  \n",
       "56473   0,5  j'ai pluerer pendent  et apres le film. penden...  \n",
       "479474  0,5  Nanar intergalactique ! que de lenteurs ! ce n...  \n",
       "56487   0,5  On tombe dans tous les clichés de \"on n'est a ...  \n",
       "148914  0,5  Des acteurs totalement inutiles avec ses effet...  \n",
       "...     ...                                                ...  \n",
       "447406  5,0  Parfait remake du dessin animé. Will Smith est...  \n",
       "514914  5,0  Un film magic ;) A voir absolument entre copin...  \n",
       "447409  5,0  il a respecté le dessin animé de bout en bout ...  \n",
       "170029  5,0  Une tuerie orgasmique, papy rambo en a encore ...  \n",
       "607728  5,0  Un film émouvant, envoutant, captivant.. la mu...  \n",
       "\n",
       "[665962 rows x 6 columns]"
      ]
     },
     "execution_count": 6,
     "metadata": {},
     "output_type": "execute_result"
    }
   ],
   "source": [
    "df.sort_values(\"note\", inplace=True)\n",
    "df"
   ]
  },
  {
   "cell_type": "code",
   "execution_count": 22,
   "metadata": {},
   "outputs": [
    {
     "data": {
      "text/html": [
       "<div>\n",
       "<style scoped>\n",
       "    .dataframe tbody tr th:only-of-type {\n",
       "        vertical-align: middle;\n",
       "    }\n",
       "\n",
       "    .dataframe tbody tr th {\n",
       "        vertical-align: top;\n",
       "    }\n",
       "\n",
       "    .dataframe thead th {\n",
       "        text-align: right;\n",
       "    }\n",
       "</style>\n",
       "<table border=\"1\" class=\"dataframe\">\n",
       "  <thead>\n",
       "    <tr style=\"text-align: right;\">\n",
       "      <th></th>\n",
       "      <th>0,5</th>\n",
       "      <th>1,0</th>\n",
       "      <th>1,5</th>\n",
       "      <th>2,0</th>\n",
       "      <th>2,5</th>\n",
       "      <th>3,0</th>\n",
       "      <th>3,5</th>\n",
       "      <th>4,0</th>\n",
       "      <th>4,5</th>\n",
       "      <th>5,0</th>\n",
       "    </tr>\n",
       "  </thead>\n",
       "  <tbody>\n",
       "    <tr>\n",
       "      <th>0</th>\n",
       "      <td>NaN</td>\n",
       "      <td>NaN</td>\n",
       "      <td>NaN</td>\n",
       "      <td>NaN</td>\n",
       "      <td>NaN</td>\n",
       "      <td>NaN</td>\n",
       "      <td>NaN</td>\n",
       "      <td>NaN</td>\n",
       "      <td>NaN</td>\n",
       "      <td>NaN</td>\n",
       "    </tr>\n",
       "  </tbody>\n",
       "</table>\n",
       "</div>"
      ],
      "text/plain": [
       "   0,5  1,0  1,5  2,0  2,5  3,0  3,5  4,0  4,5  5,0\n",
       "0  NaN  NaN  NaN  NaN  NaN  NaN  NaN  NaN  NaN  NaN"
      ]
     },
     "metadata": {},
     "output_type": "display_data"
    }
   ],
   "source": [
    "average_length_per_note = pd.DataFrame(columns=notes,  index=[0])"
   ]
  },
  {
   "cell_type": "code",
   "execution_count": null,
   "metadata": {},
   "outputs": [],
   "source": [
    "# 4.2 Distribution de la longueur des commentaires par note\n",
    "\n",
    "last_note = \"0,5\"\n",
    "total = 0\n",
    "cpt = 0\n",
    "average_length_per_note = pd.DataFrame(columns=notes,  index=[0])\n",
    "for comment, note in tqdm(df[['commentaire', 'note']].to_numpy()) :\n",
    "    if comment :\n",
    "        if last_note != note :\n",
    "            average_length_per_note[last_note] = total/cpt\n",
    "            total, cpt = 0, 0\n",
    "            last_note = note\n",
    "        total += len(nlp(comment))\n",
    "    elif last_note != note :\n",
    "        total, cpt = 0,0\n",
    "        last_note = note\n",
    "    cpt += 1\n",
    "average_length_per_note[\"5,0\"] = total/cpt"
   ]
  },
  {
   "cell_type": "code",
   "execution_count": 65,
   "metadata": {},
   "outputs": [
    {
     "ename": "NameError",
     "evalue": "name 'average_length_per_note' is not defined",
     "output_type": "error",
     "traceback": [
      "\u001b[1;31m---------------------------------------------------------------------------\u001b[0m",
      "\u001b[1;31mNameError\u001b[0m                                 Traceback (most recent call last)",
      "Cell \u001b[1;32mIn [65], line 1\u001b[0m\n\u001b[1;32m----> 1\u001b[0m plt\u001b[39m.\u001b[39mplot(average_length_per_note\u001b[39m.\u001b[39miloc[\u001b[39m0\u001b[39m])\n\u001b[0;32m      2\u001b[0m plt\u001b[39m.\u001b[39mxlabel(\u001b[39m\"\u001b[39m\u001b[39mnote\u001b[39m\u001b[39m\"\u001b[39m)\n\u001b[0;32m      3\u001b[0m plt\u001b[39m.\u001b[39mylabel(\u001b[39m\"\u001b[39m\u001b[39mnombre de mots moyen par commentaire\u001b[39m\u001b[39m\"\u001b[39m)\n",
      "\u001b[1;31mNameError\u001b[0m: name 'average_length_per_note' is not defined"
     ]
    }
   ],
   "source": [
    "plt.plot(average_length_per_note.iloc[0])\n",
    "plt.xlabel(\"note\")\n",
    "plt.ylabel(\"nombre de mots moyen par commentaire\")\n",
    "plt.show()"
   ]
  },
  {
   "cell_type": "code",
   "execution_count": 18,
   "metadata": {},
   "outputs": [
    {
     "name": "stderr",
     "output_type": "stream",
     "text": [
      "100%|██████████| 665962/665962 [34:26<00:00, 322.19it/s]\n"
     ]
    }
   ],
   "source": [
    "# 4.4 Influence des emojis et smileys\n",
    "df.sort_values(by=\"note\", ascending=False, inplace = True)\n",
    "for note, commentaire in tqdm(df[['commentaire', 'note']].to_numpy()) :\n",
    "    if commentaire :\n",
    "        txt = nlp(commentaire)\n",
    "        if txt._.has_emoji:\n",
    "            display(txt)\n",
    "            break\n",
    "        "
   ]
  },
  {
   "cell_type": "code",
   "execution_count": 32,
   "metadata": {},
   "outputs": [
    {
     "data": {
      "text/html": [
       "<div>\n",
       "<style scoped>\n",
       "    .dataframe tbody tr th:only-of-type {\n",
       "        vertical-align: middle;\n",
       "    }\n",
       "\n",
       "    .dataframe tbody tr th {\n",
       "        vertical-align: top;\n",
       "    }\n",
       "\n",
       "    .dataframe thead th {\n",
       "        text-align: right;\n",
       "    }\n",
       "</style>\n",
       "<table border=\"1\" class=\"dataframe\">\n",
       "  <thead>\n",
       "    <tr style=\"text-align: right;\">\n",
       "      <th></th>\n",
       "      <th>0,5</th>\n",
       "      <th>1,0</th>\n",
       "      <th>1,5</th>\n",
       "      <th>2,0</th>\n",
       "      <th>2,5</th>\n",
       "      <th>3,0</th>\n",
       "      <th>3,5</th>\n",
       "      <th>4,0</th>\n",
       "      <th>4,5</th>\n",
       "      <th>5,0</th>\n",
       "    </tr>\n",
       "  </thead>\n",
       "  <tbody>\n",
       "  </tbody>\n",
       "</table>\n",
       "</div>"
      ],
      "text/plain": [
       "Empty DataFrame\n",
       "Columns: [0,5, 1,0, 1,5, 2,0, 2,5, 3,0, 3,5, 4,0, 4,5, 5,0]\n",
       "Index: []"
      ]
     },
     "execution_count": 32,
     "metadata": {},
     "output_type": "execute_result"
    }
   ],
   "source": [
    "punct_repetition = pd.DataFrame(columns=notes)\n",
    "punct_repetition"
   ]
  },
  {
   "cell_type": "code",
   "execution_count": 7,
   "metadata": {},
   "outputs": [
    {
     "name": "stderr",
     "output_type": "stream",
     "text": [
      "665962it [2:39:58, 69.38it/s] \n"
     ]
    }
   ],
   "source": [
    "# 4.5 Influence de la ponctuation\n",
    "cpt = 0\n",
    "punct = \"\"\n",
    "tot_punct = \"\"\n",
    "punct_repetition = pd.DataFrame(columns=notes)\n",
    "total = 0\n",
    "\n",
    "for index, row in tqdm(df.iterrows()) :\n",
    "    if row[\"commentaire\"] :\n",
    "        for token in nlp(row[\"commentaire\"]):\n",
    "            if token.is_punct and token.text == punct :\n",
    "                cpt +=1\n",
    "                tot_punct += punct\n",
    "            elif len(tot_punct) > 2 :\n",
    "                if tot_punct in df :\n",
    "                    punct_repetition.at[row[\"note\"],tot_punct] +=1\n",
    "                else :\n",
    "                    punct_repetition.loc[tot_punct] = [0, 0, 0, 0, 0, 0, 0, 0, 0, 0]\n",
    "                    punct_repetition[row[\"note\"]][tot_punct] +=1\n",
    "                cpt = 0\n",
    "                punct = \"\"\n",
    "                tot_punct = \"\"\n",
    "            elif token.is_punct :\n",
    "                punct = token.text\n",
    "                tot_punct = \"\"\n",
    "                cpt = punct_frequency"
   ]
  },
  {
   "cell_type": "code",
   "execution_count": 11,
   "metadata": {},
   "outputs": [
    {
     "name": "stderr",
     "output_type": "stream",
     "text": [
      "100%|██████████| 665962/665962 [3:29:36<00:00, 52.95it/s]      \n"
     ]
    },
    {
     "data": {
      "text/html": [
       "<div>\n",
       "<style scoped>\n",
       "    .dataframe tbody tr th:only-of-type {\n",
       "        vertical-align: middle;\n",
       "    }\n",
       "\n",
       "    .dataframe tbody tr th {\n",
       "        vertical-align: top;\n",
       "    }\n",
       "\n",
       "    .dataframe thead th {\n",
       "        text-align: right;\n",
       "    }\n",
       "</style>\n",
       "<table border=\"1\" class=\"dataframe\">\n",
       "  <thead>\n",
       "    <tr style=\"text-align: right;\">\n",
       "      <th></th>\n",
       "      <th>0,5</th>\n",
       "      <th>1,0</th>\n",
       "      <th>1,5</th>\n",
       "      <th>2,0</th>\n",
       "      <th>2,5</th>\n",
       "      <th>3,0</th>\n",
       "      <th>3,5</th>\n",
       "      <th>4,0</th>\n",
       "      <th>4,5</th>\n",
       "      <th>5,0</th>\n",
       "    </tr>\n",
       "  </thead>\n",
       "  <tbody>\n",
       "    <tr>\n",
       "      <th>punct</th>\n",
       "      <td>499818</td>\n",
       "      <td>460613</td>\n",
       "      <td>440788</td>\n",
       "      <td>861506</td>\n",
       "      <td>882248</td>\n",
       "      <td>1443161</td>\n",
       "      <td>1523759</td>\n",
       "      <td>1857990</td>\n",
       "      <td>960774</td>\n",
       "      <td>908860</td>\n",
       "    </tr>\n",
       "    <tr>\n",
       "      <th>total</th>\n",
       "      <td>3680372</td>\n",
       "      <td>3513077</td>\n",
       "      <td>3462864</td>\n",
       "      <td>6853637</td>\n",
       "      <td>7229786</td>\n",
       "      <td>11925428</td>\n",
       "      <td>12707546</td>\n",
       "      <td>15158534</td>\n",
       "      <td>7675756</td>\n",
       "      <td>7170499</td>\n",
       "    </tr>\n",
       "  </tbody>\n",
       "</table>\n",
       "</div>"
      ],
      "text/plain": [
       "           0,5      1,0      1,5      2,0      2,5       3,0       3,5  \\\n",
       "punct   499818   460613   440788   861506   882248   1443161   1523759   \n",
       "total  3680372  3513077  3462864  6853637  7229786  11925428  12707546   \n",
       "\n",
       "            4,0      4,5      5,0  \n",
       "punct   1857990   960774   908860  \n",
       "total  15158534  7675756  7170499  "
      ]
     },
     "metadata": {},
     "output_type": "display_data"
    }
   ],
   "source": [
    "# 4.5 Influence de la ponctuation\n",
    "punct_frequency = pd.DataFrame(columns=notes)\n",
    "punct_frequency.loc[\"punct\"] = [0, 0, 0, 0, 0, 0, 0, 0, 0, 0]\n",
    "punct_frequency.loc[\"total\"] = [0, 0, 0, 0, 0, 0, 0, 0, 0, 0]\n",
    "\n",
    "for comment, note in tqdm(df[['commentaire', 'note']].to_numpy()) :\n",
    "    if comment :\n",
    "        total = 0\n",
    "        cpt = 0\n",
    "        for token in nlp(comment):\n",
    "            if token.is_punct :\n",
    "                cpt += 1\n",
    "            total += 1\n",
    "        punct_frequency[note][\"punct\"] += cpt\n",
    "        punct_frequency[note][\"total\"] += total\n",
    "display(punct_frequency)"
   ]
  },
  {
   "cell_type": "code",
   "execution_count": 15,
   "metadata": {},
   "outputs": [
    {
     "data": {
      "text/plain": [
       "[0.13580638044197707]"
      ]
     },
     "metadata": {},
     "output_type": "display_data"
    },
    {
     "data": {
      "text/plain": [
       "[0.13580638044197707, 0.13111383553505943]"
      ]
     },
     "metadata": {},
     "output_type": "display_data"
    },
    {
     "data": {
      "text/plain": [
       "[0.13580638044197707, 0.13111383553505943, 0.127290011966973]"
      ]
     },
     "metadata": {},
     "output_type": "display_data"
    },
    {
     "data": {
      "text/plain": [
       "[0.13580638044197707,\n",
       " 0.13111383553505943,\n",
       " 0.127290011966973,\n",
       " 0.12570055869606167]"
      ]
     },
     "metadata": {},
     "output_type": "display_data"
    },
    {
     "data": {
      "text/plain": [
       "[0.13580638044197707,\n",
       " 0.13111383553505943,\n",
       " 0.127290011966973,\n",
       " 0.12570055869606167,\n",
       " 0.12202961470782123]"
      ]
     },
     "metadata": {},
     "output_type": "display_data"
    },
    {
     "data": {
      "text/plain": [
       "[0.13580638044197707,\n",
       " 0.13111383553505943,\n",
       " 0.127290011966973,\n",
       " 0.12570055869606167,\n",
       " 0.12202961470782123,\n",
       " 0.12101544699276202]"
      ]
     },
     "metadata": {},
     "output_type": "display_data"
    },
    {
     "data": {
      "text/plain": [
       "[0.13580638044197707,\n",
       " 0.13111383553505943,\n",
       " 0.127290011966973,\n",
       " 0.12570055869606167,\n",
       " 0.12202961470782123,\n",
       " 0.12101544699276202,\n",
       " 0.11990977644306776]"
      ]
     },
     "metadata": {},
     "output_type": "display_data"
    },
    {
     "data": {
      "text/plain": [
       "[0.13580638044197707,\n",
       " 0.13111383553505943,\n",
       " 0.127290011966973,\n",
       " 0.12570055869606167,\n",
       " 0.12202961470782123,\n",
       " 0.12101544699276202,\n",
       " 0.11990977644306776,\n",
       " 0.12257055992353878]"
      ]
     },
     "metadata": {},
     "output_type": "display_data"
    },
    {
     "data": {
      "text/plain": [
       "[0.13580638044197707,\n",
       " 0.13111383553505943,\n",
       " 0.127290011966973,\n",
       " 0.12570055869606167,\n",
       " 0.12202961470782123,\n",
       " 0.12101544699276202,\n",
       " 0.11990977644306776,\n",
       " 0.12257055992353878,\n",
       " 0.1251699506862907]"
      ]
     },
     "metadata": {},
     "output_type": "display_data"
    },
    {
     "data": {
      "text/plain": [
       "[0.13580638044197707,\n",
       " 0.13111383553505943,\n",
       " 0.127290011966973,\n",
       " 0.12570055869606167,\n",
       " 0.12202961470782123,\n",
       " 0.12101544699276202,\n",
       " 0.11990977644306776,\n",
       " 0.12257055992353878,\n",
       " 0.1251699506862907,\n",
       " 0.12674989564882444]"
      ]
     },
     "metadata": {},
     "output_type": "display_data"
    },
    {
     "data": {
      "text/html": [
       "<div>\n",
       "<style scoped>\n",
       "    .dataframe tbody tr th:only-of-type {\n",
       "        vertical-align: middle;\n",
       "    }\n",
       "\n",
       "    .dataframe tbody tr th {\n",
       "        vertical-align: top;\n",
       "    }\n",
       "\n",
       "    .dataframe thead th {\n",
       "        text-align: right;\n",
       "    }\n",
       "</style>\n",
       "<table border=\"1\" class=\"dataframe\">\n",
       "  <thead>\n",
       "    <tr style=\"text-align: right;\">\n",
       "      <th></th>\n",
       "      <th>0,5</th>\n",
       "      <th>1,0</th>\n",
       "      <th>1,5</th>\n",
       "      <th>2,0</th>\n",
       "      <th>2,5</th>\n",
       "      <th>3,0</th>\n",
       "      <th>3,5</th>\n",
       "      <th>4,0</th>\n",
       "      <th>4,5</th>\n",
       "      <th>5,0</th>\n",
       "    </tr>\n",
       "  </thead>\n",
       "  <tbody>\n",
       "    <tr>\n",
       "      <th>punct</th>\n",
       "      <td>499818</td>\n",
       "      <td>460613</td>\n",
       "      <td>440788</td>\n",
       "      <td>861506</td>\n",
       "      <td>882248</td>\n",
       "      <td>1443161</td>\n",
       "      <td>1523759</td>\n",
       "      <td>1857990</td>\n",
       "      <td>960774</td>\n",
       "      <td>908860</td>\n",
       "    </tr>\n",
       "    <tr>\n",
       "      <th>total</th>\n",
       "      <td>3680372</td>\n",
       "      <td>3513077</td>\n",
       "      <td>3462864</td>\n",
       "      <td>6853637</td>\n",
       "      <td>7229786</td>\n",
       "      <td>11925428</td>\n",
       "      <td>12707546</td>\n",
       "      <td>15158534</td>\n",
       "      <td>7675756</td>\n",
       "      <td>7170499</td>\n",
       "    </tr>\n",
       "    <tr>\n",
       "      <th>percentage</th>\n",
       "      <td>0</td>\n",
       "      <td>0</td>\n",
       "      <td>0</td>\n",
       "      <td>0</td>\n",
       "      <td>0</td>\n",
       "      <td>0</td>\n",
       "      <td>0</td>\n",
       "      <td>0</td>\n",
       "      <td>0</td>\n",
       "      <td>0</td>\n",
       "    </tr>\n",
       "  </tbody>\n",
       "</table>\n",
       "</div>"
      ],
      "text/plain": [
       "                0,5      1,0      1,5      2,0      2,5       3,0       3,5  \\\n",
       "punct        499818   460613   440788   861506   882248   1443161   1523759   \n",
       "total       3680372  3513077  3462864  6853637  7229786  11925428  12707546   \n",
       "percentage        0        0        0        0        0         0         0   \n",
       "\n",
       "                 4,0      4,5      5,0  \n",
       "punct        1857990   960774   908860  \n",
       "total       15158534  7675756  7170499  \n",
       "percentage         0        0        0  "
      ]
     },
     "execution_count": 15,
     "metadata": {},
     "output_type": "execute_result"
    }
   ],
   "source": [
    "punct_frequency.loc[\"percentage\"] = [0, 0, 0, 0, 0, 0, 0, 0, 0, 0]\n",
    "tmp = []\n",
    "for note in notes :\n",
    "    tmp.append(punct_frequency.loc[\"punct\"].loc[note]/punct_frequency.loc[\"total\"].loc[note])\n",
    "    display(tmp)\n",
    "punct_frequency"
   ]
  },
  {
   "cell_type": "code",
   "execution_count": 16,
   "metadata": {},
   "outputs": [
    {
     "data": {
      "image/png": "[encoded data removed]",
      "text/plain": [
       "<Figure size 640x480 with 1 Axes>"
      ]
     },
     "metadata": {},
     "output_type": "display_data"
    }
   ],
   "source": [
    "# fix spaces on plot\n",
    "xaxis = np.array(notes)\n",
    "yaxis = np.array(tmp)\n",
    "plt.bar(xaxis,yaxis)\n",
    "plt.xlabel(\"notes\")\n",
    "plt.ylabel(\"proportion de ponctuation\")\n",
    "plt.show()"
   ]
  },
  {
   "cell_type": "code",
   "execution_count": 17,
   "metadata": {},
   "outputs": [
    {
     "data": {
      "image/png": "[encoded data removed]",
      "text/plain": [
       "<Figure size 640x480 with 1 Axes>"
      ]
     },
     "metadata": {},
     "output_type": "display_data"
    }
   ],
   "source": [
    "# fix spaces on plot\n",
    "xaxis = np.array(notes)\n",
    "yaxis = np.array(punct_frequency.loc[\"punct\"])\n",
    "plt.bar(xaxis,yaxis)\n",
    "plt.xlabel(\"notes\")\n",
    "plt.ylabel(\"nombre de ponctuation\")\n",
    "plt.show()"
   ]
  },
  {
   "cell_type": "code",
   "execution_count": 19,
   "metadata": {},
   "outputs": [
    {
     "data": {
      "text/html": [
       "<div>\n",
       "<style scoped>\n",
       "    .dataframe tbody tr th:only-of-type {\n",
       "        vertical-align: middle;\n",
       "    }\n",
       "\n",
       "    .dataframe tbody tr th {\n",
       "        vertical-align: top;\n",
       "    }\n",
       "\n",
       "    .dataframe thead th {\n",
       "        text-align: right;\n",
       "    }\n",
       "</style>\n",
       "<table border=\"1\" class=\"dataframe\">\n",
       "  <thead>\n",
       "    <tr style=\"text-align: right;\">\n",
       "      <th></th>\n",
       "      <th>mot</th>\n",
       "      <th>0,5</th>\n",
       "      <th>1,0</th>\n",
       "      <th>1,5</th>\n",
       "      <th>2,0</th>\n",
       "      <th>2,5</th>\n",
       "      <th>3,0</th>\n",
       "      <th>3,5</th>\n",
       "      <th>4,0</th>\n",
       "      <th>4,5</th>\n",
       "      <th>5,0</th>\n",
       "    </tr>\n",
       "  </thead>\n",
       "  <tbody>\n",
       "    <tr>\n",
       "      <th>0</th>\n",
       "      <td>,,,</td>\n",
       "      <td>0</td>\n",
       "      <td>0</td>\n",
       "      <td>0</td>\n",
       "      <td>0</td>\n",
       "      <td>0</td>\n",
       "      <td>1</td>\n",
       "      <td>0</td>\n",
       "      <td>0</td>\n",
       "      <td>0</td>\n",
       "      <td>0</td>\n",
       "    </tr>\n",
       "    <tr>\n",
       "      <th>1</th>\n",
       "      <td>\"\"\"</td>\n",
       "      <td>0</td>\n",
       "      <td>0</td>\n",
       "      <td>0</td>\n",
       "      <td>1</td>\n",
       "      <td>0</td>\n",
       "      <td>0</td>\n",
       "      <td>0</td>\n",
       "      <td>0</td>\n",
       "      <td>0</td>\n",
       "      <td>0</td>\n",
       "    </tr>\n",
       "    <tr>\n",
       "      <th>2</th>\n",
       "      <td>...</td>\n",
       "      <td>0</td>\n",
       "      <td>0</td>\n",
       "      <td>0</td>\n",
       "      <td>0</td>\n",
       "      <td>0</td>\n",
       "      <td>0</td>\n",
       "      <td>1</td>\n",
       "      <td>0</td>\n",
       "      <td>0</td>\n",
       "      <td>0</td>\n",
       "    </tr>\n",
       "    <tr>\n",
       "      <th>3</th>\n",
       "      <td>!!!!!!!!!!</td>\n",
       "      <td>0</td>\n",
       "      <td>0</td>\n",
       "      <td>0</td>\n",
       "      <td>0</td>\n",
       "      <td>0</td>\n",
       "      <td>0</td>\n",
       "      <td>1</td>\n",
       "      <td>0</td>\n",
       "      <td>0</td>\n",
       "      <td>0</td>\n",
       "    </tr>\n",
       "    <tr>\n",
       "      <th>4</th>\n",
       "      <td>!!!</td>\n",
       "      <td>0</td>\n",
       "      <td>0</td>\n",
       "      <td>0</td>\n",
       "      <td>0</td>\n",
       "      <td>0</td>\n",
       "      <td>1</td>\n",
       "      <td>0</td>\n",
       "      <td>0</td>\n",
       "      <td>0</td>\n",
       "      <td>0</td>\n",
       "    </tr>\n",
       "    <tr>\n",
       "      <th>...</th>\n",
       "      <td>...</td>\n",
       "      <td>...</td>\n",
       "      <td>...</td>\n",
       "      <td>...</td>\n",
       "      <td>...</td>\n",
       "      <td>...</td>\n",
       "      <td>...</td>\n",
       "      <td>...</td>\n",
       "      <td>...</td>\n",
       "      <td>...</td>\n",
       "      <td>...</td>\n",
       "    </tr>\n",
       "    <tr>\n",
       "      <th>247</th>\n",
       "      <td>!!!!!!!!!!!!!!!!!!!!!!!!!!!!!!!!!!!!!!!!!!!!!!...</td>\n",
       "      <td>0</td>\n",
       "      <td>0</td>\n",
       "      <td>0</td>\n",
       "      <td>0</td>\n",
       "      <td>0</td>\n",
       "      <td>0</td>\n",
       "      <td>0</td>\n",
       "      <td>0</td>\n",
       "      <td>0</td>\n",
       "      <td>1</td>\n",
       "    </tr>\n",
       "    <tr>\n",
       "      <th>248</th>\n",
       "      <td>!!!!!!!!!!!!!!!!!!!!!!!!!!!!!!!!!!!!!!!!!!!!!!...</td>\n",
       "      <td>0</td>\n",
       "      <td>0</td>\n",
       "      <td>0</td>\n",
       "      <td>0</td>\n",
       "      <td>0</td>\n",
       "      <td>0</td>\n",
       "      <td>0</td>\n",
       "      <td>0</td>\n",
       "      <td>0</td>\n",
       "      <td>1</td>\n",
       "    </tr>\n",
       "    <tr>\n",
       "      <th>249</th>\n",
       "      <td>______________________________________________...</td>\n",
       "      <td>0</td>\n",
       "      <td>0</td>\n",
       "      <td>0</td>\n",
       "      <td>0</td>\n",
       "      <td>0</td>\n",
       "      <td>1</td>\n",
       "      <td>0</td>\n",
       "      <td>0</td>\n",
       "      <td>0</td>\n",
       "      <td>0</td>\n",
       "    </tr>\n",
       "    <tr>\n",
       "      <th>250</th>\n",
       "      <td>:-):-):-)</td>\n",
       "      <td>1</td>\n",
       "      <td>0</td>\n",
       "      <td>0</td>\n",
       "      <td>0</td>\n",
       "      <td>0</td>\n",
       "      <td>0</td>\n",
       "      <td>0</td>\n",
       "      <td>0</td>\n",
       "      <td>0</td>\n",
       "      <td>0</td>\n",
       "    </tr>\n",
       "    <tr>\n",
       "      <th>251</th>\n",
       "      <td>!!!!!!!!!!!!!!!!!!!!!!!!!!!!!!!!!!!!!!!!!!!!!!...</td>\n",
       "      <td>0</td>\n",
       "      <td>0</td>\n",
       "      <td>0</td>\n",
       "      <td>1</td>\n",
       "      <td>0</td>\n",
       "      <td>0</td>\n",
       "      <td>0</td>\n",
       "      <td>0</td>\n",
       "      <td>0</td>\n",
       "      <td>0</td>\n",
       "    </tr>\n",
       "  </tbody>\n",
       "</table>\n",
       "<p>252 rows × 11 columns</p>\n",
       "</div>"
      ],
      "text/plain": [
       "                                                   mot  0,5  1,0  1,5  2,0  \\\n",
       "0                                                  ,,,    0    0    0    0   \n",
       "1                                                  \"\"\"    0    0    0    1   \n",
       "2                                                  ...    0    0    0    0   \n",
       "3                                           !!!!!!!!!!    0    0    0    0   \n",
       "4                                                  !!!    0    0    0    0   \n",
       "..                                                 ...  ...  ...  ...  ...   \n",
       "247  !!!!!!!!!!!!!!!!!!!!!!!!!!!!!!!!!!!!!!!!!!!!!!...    0    0    0    0   \n",
       "248  !!!!!!!!!!!!!!!!!!!!!!!!!!!!!!!!!!!!!!!!!!!!!!...    0    0    0    0   \n",
       "249  ______________________________________________...    0    0    0    0   \n",
       "250                                          :-):-):-)    1    0    0    0   \n",
       "251  !!!!!!!!!!!!!!!!!!!!!!!!!!!!!!!!!!!!!!!!!!!!!!...    0    0    0    1   \n",
       "\n",
       "     2,5  3,0  3,5  4,0  4,5  5,0  \n",
       "0      0    1    0    0    0    0  \n",
       "1      0    0    0    0    0    0  \n",
       "2      0    0    1    0    0    0  \n",
       "3      0    0    1    0    0    0  \n",
       "4      0    1    0    0    0    0  \n",
       "..   ...  ...  ...  ...  ...  ...  \n",
       "247    0    0    0    0    0    1  \n",
       "248    0    0    0    0    0    1  \n",
       "249    0    1    0    0    0    0  \n",
       "250    0    0    0    0    0    0  \n",
       "251    0    0    0    0    0    0  \n",
       "\n",
       "[252 rows x 11 columns]"
      ]
     },
     "execution_count": 19,
     "metadata": {},
     "output_type": "execute_result"
    }
   ],
   "source": [
    "punct_repetition : pd.DataFrame = pd.read_csv(\"data/punctuation.csv\")\n",
    "punct_repetition"
   ]
  },
  {
   "cell_type": "code",
   "execution_count": null,
   "metadata": {},
   "outputs": [],
   "source": [
    "punct_repetition_cleared = pd.DataFrame(columns=notes)\n",
    "for index, row in punct_repetition.iterrows() :\n",
    "    if len(row[\"mot\"]) > 2 :\n",
    "        chars = nlp(row[\"mot\"])\n",
    "        for note in notes :\n",
    "            if chars[0].text in punct_repetition_cleared :\n",
    "                display(\"nice\")\n",
    "                punct_repetition_cleared.at[row[\"note\"],chars[0].text] +=1\n",
    "            else :\n",
    "                display(chars[0].text)\n",
    "                punct_repetition_cleared.loc[chars[0].text] = [row[\"0,5\"], row[\"1,0\"], row[\"1,5\"], row[\"2,0\"], row[\"2,5\"], row[\"3,0\"], row[\"3,5\"], row[\"4,0\"], row[\"4,5\"], row[\"5,0\"]]\n",
    "                break"
   ]
  },
  {
   "cell_type": "code",
   "execution_count": 29,
   "metadata": {},
   "outputs": [],
   "source": [
    "punct_repetition_cleared.to_csv(\"data/clearedPunctuation.csv\")"
   ]
  },
  {
   "cell_type": "code",
   "execution_count": 8,
   "metadata": {},
   "outputs": [
    {
     "name": "stderr",
     "output_type": "stream",
     "text": [
      "665962it [2:57:53, 62.39it/s] \n"
     ]
    },
    {
     "data": {
      "text/html": [
       "<div>\n",
       "<style scoped>\n",
       "    .dataframe tbody tr th:only-of-type {\n",
       "        vertical-align: middle;\n",
       "    }\n",
       "\n",
       "    .dataframe tbody tr th {\n",
       "        vertical-align: top;\n",
       "    }\n",
       "\n",
       "    .dataframe thead th {\n",
       "        text-align: right;\n",
       "    }\n",
       "</style>\n",
       "<table border=\"1\" class=\"dataframe\">\n",
       "  <thead>\n",
       "    <tr style=\"text-align: right;\">\n",
       "      <th></th>\n",
       "      <th>0,5</th>\n",
       "      <th>1,0</th>\n",
       "      <th>1,5</th>\n",
       "      <th>2,0</th>\n",
       "      <th>2,5</th>\n",
       "      <th>3,0</th>\n",
       "      <th>3,5</th>\n",
       "      <th>4,0</th>\n",
       "      <th>4,5</th>\n",
       "      <th>5,0</th>\n",
       "    </tr>\n",
       "  </thead>\n",
       "  <tbody>\n",
       "    <tr>\n",
       "      <th>0</th>\n",
       "      <td>468</td>\n",
       "      <td>534</td>\n",
       "      <td>475</td>\n",
       "      <td>1003</td>\n",
       "      <td>1292</td>\n",
       "      <td>2049</td>\n",
       "      <td>2195</td>\n",
       "      <td>2514</td>\n",
       "      <td>1089</td>\n",
       "      <td>972</td>\n",
       "    </tr>\n",
       "  </tbody>\n",
       "</table>\n",
       "</div>"
      ],
      "text/plain": [
       "   0,5  1,0  1,5   2,0   2,5   3,0   3,5   4,0   4,5  5,0\n",
       "0  468  534  475  1003  1292  2049  2195  2514  1089  972"
      ]
     },
     "execution_count": 8,
     "metadata": {},
     "output_type": "execute_result"
    }
   ],
   "source": [
    "# 4.6 URL detection\n",
    "# CSV creation don't launch again\n",
    "\n",
    "url_data = pd.DataFrame(columns=notes)\n",
    "url_data.loc[0] = [0, 0, 0, 0, 0, 0, 0, 0, 0, 0]\n",
    "for index, row in tqdm(df.iterrows()) :\n",
    "    if row[\"commentaire\"] :\n",
    "        for token in nlp(row[\"commentaire\"]):\n",
    "            if token.like_url :\n",
    "                url_data[row[\"note\"]] += 1\n",
    "url_data\n"
   ]
  },
  {
   "cell_type": "code",
   "execution_count": 10,
   "metadata": {},
   "outputs": [
    {
     "data": {
      "image/png": "[encoded data removed]",
      "text/plain": [
       "<Figure size 640x480 with 1 Axes>"
      ]
     },
     "metadata": {},
     "output_type": "display_data"
    }
   ],
   "source": [
    "plt.plot(url_data.iloc[0])\n",
    "plt.xlabel(\"note\")\n",
    "plt.ylabel(\"nombre de commentaire avec une url\")\n",
    "plt.show()"
   ]
  },
  {
   "cell_type": "code",
   "execution_count": 54,
   "metadata": {},
   "outputs": [
    {
     "name": "stderr",
     "output_type": "stream",
     "text": [
      "100%|██████████| 665962/665962 [3:57:19<00:00, 46.77it/s]   \n"
     ]
    }
   ],
   "source": [
    "# 4.7 Language detection\n",
    "# CSV creation don't launch again\n",
    "\n",
    "f = open('data/langdetect.csv', 'w')\n",
    "writer = csv.writer(f, delimiter =';')\n",
    "\n",
    "for comment, note in tqdm(df[['commentaire', 'note']].to_numpy()) :\n",
    "    if comment :\n",
    "        text = nlp(comment)\n",
    "        writer.writerow([note ,text._.language.get('language'), round(text._.language.get('score'),2)])\n",
    "    else :\n",
    "        writer.writerow([note , \"none\", 0])\n",
    "\n",
    "f.close()"
   ]
  },
  {
   "cell_type": "code",
   "execution_count": null,
   "metadata": {},
   "outputs": [],
   "source": [
    "#fetching language detection from csv\n",
    "\n",
    "language_detection : pd.DataFrame = pd.read_csv(\"data/langdetect.csv\", ';')\n",
    "language_detection[\"language\"].to_numpy()\n",
    "languages = language_detection['language'].unique()\n",
    "language_detection"
   ]
  },
  {
   "cell_type": "code",
   "execution_count": 10,
   "metadata": {},
   "outputs": [],
   "source": [
    "# dataframe creation\n",
    "languages_count_notes = pd.DataFrame(index=languages,columns=notes)\n",
    "languages_count_notes[\"total\"] = 0\n",
    "for col in languages_count_notes.columns:\n",
    "    languages_count_notes[col].values[:] = 0"
   ]
  },
  {
   "cell_type": "code",
   "execution_count": null,
   "metadata": {},
   "outputs": [],
   "source": [
    "# setting the data\n",
    "for index, row in language_detection.iterrows():\n",
    "    languages_count_notes.at[row[\"language\"], row[\"note\"]] += 1\n",
    "for index, row in languages_count_notes.iterrows() :\n",
    "    total = 0\n",
    "    for val in row :\n",
    "        total += val\n",
    "    languages_count_notes.at[index, \"total\"] = total\n",
    "languages_count_notes"
   ]
  },
  {
   "cell_type": "code",
   "execution_count": null,
   "metadata": {},
   "outputs": [],
   "source": [
    "languages_count_notes.sort_values(by=['total'], inplace=True,ascending=False)\n",
    "languages_count_notes"
   ]
  },
  {
   "cell_type": "code",
   "execution_count": 73,
   "metadata": {},
   "outputs": [
    {
     "data": {
      "image/png": "[encoded data removed]",
      "text/plain": [
       "<Figure size 640x480 with 1 Axes>"
      ]
     },
     "metadata": {},
     "output_type": "display_data"
    }
   ],
   "source": [
    "# fix spaces on plot\n",
    "xaxis = np.array(languages_count_notes.index)\n",
    "yaxis = np.array(np.log(languages_count_notes[\"total\"]))\n",
    "plt.bar(xaxis,yaxis)\n",
    "plt.xlabel(\"langages\")\n",
    "plt.ylabel(\"log(nombre de commentaires)\")\n",
    "plt.show()"
   ]
  },
  {
   "cell_type": "code",
   "execution_count": 3,
   "metadata": {},
   "outputs": [],
   "source": [
    "TRAIN_DATAFILE = \"data/train.xml\"\n",
    "DEV_DATAFILE = \"data/dev.xml\"\n",
    "train_dataframe : pd.DataFrame = pd.read_xml(TRAIN_DATAFILE)\n",
    "dev_dataframe : pd.DataFrame = pd.read_xml(DEV_DATAFILE)\n",
    "\n",
    "dev_dataframe.replace('\\n',' ', regex=True, inplace=True)\n",
    "dev_dataframe.replace('\\r',' ', regex=True, inplace=True)\n",
    "dev_dataframe.replace('\\t',' ', regex=True, inplace=True)\n",
    "train_dataframe.replace('\\n',' ', regex=True, inplace=True)\n",
    "train_dataframe.replace('\\r',' ', regex=True, inplace=True)\n",
    "train_dataframe.replace('\\t',' ', regex=True, inplace=True)\n",
    "\n",
    "# save the dataframe to a csv file\n",
    "train_dataframe[[\"review_id\", \"note\", \"commentaire\"]].to_csv(\"data/train.tsv\", index=False, sep=\"\\t\")\n",
    "dev_dataframe[[\"review_id\", \"note\", \"commentaire\"]].to_csv(\"data/dev.tsv\", index=False, sep=\"\\t\")"
   ]
  },
  {
   "cell_type": "code",
   "execution_count": 3,
   "metadata": {},
   "outputs": [],
   "source": [
    "class Token :\n",
    "    id = 0\n",
    "    text = \"\"\n",
    "    occurrences = 0\n",
    "\n",
    "    def __init__(self, s, i, o):\n",
    "        self.text = s\n",
    "        self.id = i\n",
    "        self.occurrences = o"
   ]
  },
  {
   "cell_type": "code",
   "execution_count": null,
   "metadata": {},
   "outputs": [],
   "source": [
    "class Review :\n",
    "    review_id\n",
    "    note\n",
    "    tokens\n",
    "\n",
    "    def __init__(self, i, n):\n",
    "        self.note = n\n",
    "        self.tokens = []\n",
    "        self.review_id = i"
   ]
  },
  {
   "cell_type": "code",
   "execution_count": 12,
   "metadata": {},
   "outputs": [
    {
     "data": {
      "text/plain": [
       "0.4"
      ]
     },
     "execution_count": 12,
     "metadata": {},
     "output_type": "execute_result"
    }
   ],
   "source": [
    "nlp (str(2/5))"
   ]
  },
  {
   "cell_type": "code",
   "execution_count": 3,
   "metadata": {},
   "outputs": [],
   "source": [
    "TRAIN_DATAFILE = \"data/train.tsv\"\n",
    "DEV_DATAFILE = \"data/dev.tsv\"\n",
    "\n",
    "train_dataframe : pd.DataFrame = pd.read_csv(TRAIN_DATAFILE, sep=\"\\t\")\n",
    "dev_dataframe : pd.DataFrame = pd.read_csv(DEV_DATAFILE, sep=\"\\t\")\n",
    "full_dataframe = pd.concat([train_dataframe, dev_dataframe], axis=0)"
   ]
  },
  {
   "cell_type": "code",
   "execution_count": 13,
   "metadata": {},
   "outputs": [
    {
     "name": "stderr",
     "output_type": "stream",
     "text": [
      " 81%|████████  | 622250/766362 [113:01:43<33:21:29,  1.20it/s]       "
     ]
    }
   ],
   "source": [
    "tokens = []\n",
    "cpt = 1\n",
    "reviews = pd.DataFrame(columns=[\"id\",\"note\", \"tokens\", \"occurrences\"])\n",
    "reviews.set_index('id', inplace=True)\n",
    "# 4.4 Influence des emojis et smileys\n",
    "for review_id, note, commentaire in tqdm(full_dataframe.to_numpy()) :\n",
    "    id = review_id[7:len(review_id)]\n",
    "    reviews.loc[id]=(note, [], [])\n",
    "    if commentaire :\n",
    "        for mot in nlp(str(commentaire)) :\n",
    "            found = False\n",
    "            for token in tokens :\n",
    "                if mot.text == token.text :\n",
    "                    currentToken = token\n",
    "                    found = True\n",
    "                    break\n",
    "            if not found :\n",
    "                currentToken = Token(mot.text, cpt, 0)\n",
    "                tokens.append(currentToken)\n",
    "                cpt += 1\n",
    "            found = False\n",
    "            for token in reviews.loc[id][\"tokens\"] :\n",
    "                if token == currentToken.id :\n",
    "                    reviews.loc[id][\"occurrences\"][reviews.loc[id][\"tokens\"].index(token)] += 1\n",
    "                    found = True\n",
    "                    break\n",
    "            if not found :\n",
    "                reviews.loc[id][\"tokens\"].append(currentToken.id)\n",
    "                reviews.loc[id][\"occurrences\"].append(1)"
   ]
  },
  {
   "cell_type": "code",
   "execution_count": null,
   "metadata": {},
   "outputs": [],
   "source": [
    "f = open(\"data/svmTrainData.txt\", \"a\")\n",
    "\n",
    "for note, tokens, occurrences in tqdm(reviews.to_numpy()) :\n",
    "    f.write(note)\n",
    "    for i in range(0, len(tokens)-1) :\n",
    "        f.write(\" \" + str(tokens[i]) + \":\" + str(occurrences[i]))\n",
    "    f.write(\"\\n\")\n",
    "f.close()"
   ]
  },
  {
   "cell_type": "code",
   "execution_count": 6,
   "metadata": {},
   "outputs": [
    {
     "name": "stderr",
     "output_type": "stream",
     "text": [
      "100%|██████████| 766362/766362 [2:46:51<00:00, 76.55it/s]   \n"
     ]
    }
   ],
   "source": [
    "bag_of_words = []\n",
    "for review_id, note, commentaire in tqdm(full_dataframe.to_numpy()) :\n",
    "    d = {\"note_svm\":note, \"review_id\":review_id}\n",
    "    if commentaire :\n",
    "        for mot in nlp(str(commentaire)) :\n",
    "            if (mot.text in d.keys()) :\n",
    "                d[mot.text] += 1\n",
    "            else :\n",
    "                d[mot.text] = 1\n",
    "    bag_of_words.append(d)"
   ]
  },
  {
   "cell_type": "code",
   "execution_count": 9,
   "metadata": {},
   "outputs": [],
   "source": [
    "f = open(\"data/bagOfWords.txt\", \"w\", encoding='utf-8')\n",
    "\n",
    "for i in bag_of_words:\n",
    "    f.write((str(i[\"review_id\"]) + \" \" + str(i[\"note_svm\"])))\n",
    "    for j in i :\n",
    "        if (j != \"review_id\" and j != \"note_svm\"):\n",
    "            f.write((\" \" + str(j) + \":\" + str(i[j])))\n",
    "    f.write(\"\\n\")\n",
    "f.close()"
   ]
  },
  {
   "cell_type": "code",
   "execution_count": 3,
   "metadata": {},
   "outputs": [],
   "source": [
    "bag_of_words = []\n",
    "f = open(\"data/bagOfWords.txt\", \"r\",  encoding='utf-8')\n",
    "for lign in f:\n",
    "    d = {}\n",
    "    l = re.split(' |\\n|\\r', lign)\n",
    "    for j in l :\n",
    "        i = j.split(':')\n",
    "        if len(i) == 1 :\n",
    "            tmp = i[0]\n",
    "            if \"_\" in tmp :\n",
    "                d[\"review_id\"] = tmp\n",
    "            elif \",\" in tmp :\n",
    "                d[\"note_svm\"] = tmp\n",
    "        else :\n",
    "            d[i[0]]=i[1]\n",
    "    bag_of_words.append(d)\n",
    "f.close()"
   ]
  },
  {
   "cell_type": "code",
   "execution_count": 4,
   "metadata": {},
   "outputs": [],
   "source": [
    "index = {}\n",
    "cpt = 1\n",
    "for i in bag_of_words:\n",
    "    for j in i :\n",
    "        if not(j in index.keys()) and (j != \"review_id\") and (j != \"note_svm\") :\n",
    "            index[j] = cpt\n",
    "            cpt += 1"
   ]
  },
  {
   "cell_type": "code",
   "execution_count": 55,
   "metadata": {},
   "outputs": [],
   "source": [
    "f = open(\"data/index.tsv\", \"w\", encoding='utf-8')\n",
    "\n",
    "for i in index:\n",
    "    f.write(str(index[i]) + \"\\t\" + str(i) + \"\\n\")\n",
    "f.close()"
   ]
  },
  {
   "cell_type": "code",
   "execution_count": 5,
   "metadata": {},
   "outputs": [],
   "source": [
    "indexedBagOfWords = []\n",
    "for i in bag_of_words:\n",
    "    d = {}\n",
    "    for j in i :\n",
    "        if j == \"review_id\" :\n",
    "            d[\"review_id\"] = i[j]\n",
    "        elif j == \"note_svm\" :\n",
    "            d[\"note_svm\"] = i[j]\n",
    "        elif not(index[j] in d.keys()) :\n",
    "            d[index[j]] = i[j]\n",
    "        else :\n",
    "            d[index[j]] += i[j]\n",
    "    indexedBagOfWords.append(d)"
   ]
  },
  {
   "cell_type": "code",
   "execution_count": 57,
   "metadata": {},
   "outputs": [],
   "source": [
    "f = open(\"data/indexedBagOfWords.txt\", \"w\", encoding='utf-8')\n",
    "\n",
    "for i in indexedBagOfWords:\n",
    "    if (\"review_id\" in i.keys()):\n",
    "        f.write(str(i[\"review_id\"]) + \" \" )\n",
    "    else :\n",
    "        f.write(\"review_id\" + \" \")\n",
    "    if \"note_svm\" in i.keys() :\n",
    "        f.write(str(i[\"note_svm\"]))\n",
    "    else :\n",
    "        f.write(\"2,5\")\n",
    "    for j in i :\n",
    "        if (j != \"review_id\" and j != \"note_svm\"):\n",
    "            f.write(\" \" + str(j) + \":\" + str(i[j]))\n",
    "    f.write('\\n')\n",
    "f.close()"
   ]
  },
  {
   "cell_type": "code",
   "execution_count": 7,
   "metadata": {},
   "outputs": [],
   "source": [
    "indexedBagOfWords = []\n",
    "f = open(\"data/indexedBagOfWords.txt\", \"r\",  encoding='utf-8')\n",
    "for lign in f:\n",
    "    note_found = False\n",
    "    if (lign[0] == \" \") or len(lign) < 7:\n",
    "        continue\n",
    "    d = {}\n",
    "    l = lign.split(' ')\n",
    "    for j in l :\n",
    "        i = j.split(':')\n",
    "        if len(i) == 1 :\n",
    "            tmp = i[0]\n",
    "            if \"_\" in tmp :\n",
    "                d[\"review_id\"] = tmp\n",
    "            elif \",\" in tmp :\n",
    "                \n",
    "                note_found = True\n",
    "                tmp = tmp.split(',')\n",
    "                d[\"note_svm\"] = float(tmp[0] + \".\" + tmp[1])\n",
    "        else :\n",
    "            d[i[0]]=i[1]\n",
    "    if note_found :\n",
    "        indexedBagOfWords.append(d)\n",
    "f.close()"
   ]
  },
  {
   "cell_type": "code",
   "execution_count": 8,
   "metadata": {},
   "outputs": [],
   "source": [
    "f = open(\"data/train.svm\", \"w\", encoding='utf-8')\n",
    "\n",
    "for i in indexedBagOfWords:\n",
    "    if len(i) > 2 :\n",
    "        if \"note_svm\" in i.keys() :\n",
    "            f.write(str(i[\"note_svm\"]))\n",
    "        else :\n",
    "            f.write(\"2.5\")\n",
    "        for j in i :\n",
    "            if (j != \"review_id\" and j != \"note_svm\"):\n",
    "                f.write(\" \" + str(j) + \":\" + str(i[j]))\n",
    "f.close()"
   ]
  },
  {
   "cell_type": "code",
   "execution_count": 5,
   "metadata": {},
   "outputs": [
    {
     "name": "stdout",
     "output_type": "stream",
     "text": [
      "3\n"
     ]
    }
   ],
   "source": [
    "d = {\"note-svm\":4.5, 1:2, 2:3}\n",
    "print(len(d))"
   ]
  },
  {
   "cell_type": "code",
   "execution_count": 9,
   "metadata": {},
   "outputs": [
    {
     "ename": "ValueError",
     "evalue": "could not convert string to float: ''",
     "output_type": "error",
     "traceback": [
      "\u001b[1;31m---------------------------------------------------------------------------\u001b[0m",
      "\u001b[1;31mValueError\u001b[0m                                Traceback (most recent call last)",
      "Cell \u001b[1;32mIn [9], line 1\u001b[0m\n\u001b[1;32m----> 1\u001b[0m y, x \u001b[39m=\u001b[39m svm_read_problem(\u001b[39m'\u001b[39;49m\u001b[39mdata/train.svm\u001b[39;49m\u001b[39m'\u001b[39;49m)\n\u001b[0;32m      2\u001b[0m m \u001b[39m=\u001b[39m train(y[:\u001b[39m200\u001b[39m], x[:\u001b[39m200\u001b[39m], \u001b[39m'\u001b[39m\u001b[39m-c 4\u001b[39m\u001b[39m'\u001b[39m)\n\u001b[0;32m      3\u001b[0m p_label, p_acc, p_val \u001b[39m=\u001b[39m predict(y[\u001b[39m200\u001b[39m:], x[\u001b[39m200\u001b[39m:], m)\n",
      "File \u001b[1;32m~\\AppData\\Local\\Packages\\PythonSoftwareFoundation.Python.3.10_qbz5n2kfra8p0\\LocalCache\\local-packages\\Python310\\site-packages\\liblinear\\commonutil.py:58\u001b[0m, in \u001b[0;36msvm_read_problem\u001b[1;34m(data_file_name, return_scipy)\u001b[0m\n\u001b[0;32m     56\u001b[0m         \u001b[39mfor\u001b[39;00m e \u001b[39min\u001b[39;00m features\u001b[39m.\u001b[39msplit():\n\u001b[0;32m     57\u001b[0m             ind, val \u001b[39m=\u001b[39m e\u001b[39m.\u001b[39msplit(\u001b[39m\"\u001b[39m\u001b[39m:\u001b[39m\u001b[39m\"\u001b[39m)\n\u001b[1;32m---> 58\u001b[0m             xi[\u001b[39mint\u001b[39m(ind)] \u001b[39m=\u001b[39m \u001b[39mfloat\u001b[39;49m(val)\n\u001b[0;32m     59\u001b[0m         prob_x \u001b[39m+\u001b[39m\u001b[39m=\u001b[39m [xi]\n\u001b[0;32m     60\u001b[0m \u001b[39mif\u001b[39;00m scipy \u001b[39m!=\u001b[39m \u001b[39mNone\u001b[39;00m \u001b[39mand\u001b[39;00m return_scipy:\n",
      "\u001b[1;31mValueError\u001b[0m: could not convert string to float: ''"
     ]
    }
   ],
   "source": [
    "y, x = svm_read_problem('data/train.svm')\n",
    "m = train(y[:200], x[:200], '-c 4')\n",
    "p_label, p_acc, p_val = predict(y[200:], x[200:], m)"
   ]
  },
  {
   "cell_type": "code",
   "execution_count": 26,
   "metadata": {},
   "outputs": [
    {
     "data": {
      "text/plain": [
       "[4.0]"
      ]
     },
     "execution_count": 26,
     "metadata": {},
     "output_type": "execute_result"
    }
   ],
   "source": [
    "y"
   ]
  }
 ],
 "metadata": {
  "kernelspec": {
   "display_name": "Python 3.10.8 64-bit (microsoft store)",
   "language": "python",
   "name": "python3"
  },
  "language_info": {
   "codemirror_mode": {
    "name": "ipython",
    "version": 3
   },
   "file_extension": ".py",
   "mimetype": "text/x-python",
   "name": "python",
   "nbconvert_exporter": "python",
   "pygments_lexer": "ipython3",
   "version": "3.10.9"
  },
  "orig_nbformat": 4,
  "vscode": {
   "interpreter": {
    "hash": "bacb8a813009e217cb58ea0ec67d556a694cf32584e91fdf9c136f51ebb4c77d"
   }
  }
 },
 "nbformat": 4,
 "nbformat_minor": 2
}
