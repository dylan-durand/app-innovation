{
 "cells": [
  {
   "cell_type": "code",
   "execution_count": 6,
   "metadata": {},
   "outputs": [],
   "source": [
    "%%capture\n",
    "\n",
    "import sys\n",
    "\n",
    "%pip install pandas\n",
    "%pip install lxml\n",
    "%pip install matplotlib\n",
    "%pip install tqdm\n",
    "%pip install spacy\n",
    "%pip install wordcloud\n",
    "!{sys.executable} -m spacy download fr_core_news_md\n"
   ]
  },
  {
   "cell_type": "code",
   "execution_count": 7,
   "metadata": {},
   "outputs": [],
   "source": [
    "import pandas as pd\n",
    "import matplotlib.pyplot as plt\n",
    "from collections import Counter\n",
    "import spacy\n",
    "from tqdm import tqdm\n",
    "from wordcloud import WordCloud"
   ]
  },
  {
   "cell_type": "code",
   "execution_count": 5,
   "metadata": {},
   "outputs": [],
   "source": [
    "nlp = spacy.load('fr_core_news_md')"
   ]
  },
  {
   "cell_type": "code",
   "execution_count": null,
   "metadata": {},
   "outputs": [],
   "source": [
    "DATAFILE = \"data/train.xml\"\n",
    "\n",
    "df : pd.DataFrame = pd.read_xml(DATAFILE)\n",
    "df"
   ]
  },
  {
   "cell_type": "code",
   "execution_count": null,
   "metadata": {},
   "outputs": [],
   "source": [
    "df.nunique()\n"
   ]
  },
  {
   "cell_type": "code",
   "execution_count": null,
   "metadata": {},
   "outputs": [],
   "source": [
    "s = df['note'].value_counts()\n",
    "s = s.sort_index()\n",
    "fig = plt.figure()\n",
    "s.plot.bar()\n",
    "\n",
    "plt.show()"
   ]
  },
  {
   "cell_type": "code",
   "execution_count": null,
   "metadata": {},
   "outputs": [],
   "source": [
    "df[\"note\"].to_numpy()\n"
   ]
  },
  {
   "cell_type": "code",
   "execution_count": null,
   "metadata": {},
   "outputs": [],
   "source": [
    "notes = df['note'].unique()\n",
    "notes.sort()\n",
    "word_cloud = pd.DataFrame(columns=notes)\n",
    "bag_of_words = pd.DataFrame(columns=notes)\n"
   ]
  },
  {
   "cell_type": "code",
   "execution_count": null,
   "metadata": {},
   "outputs": [],
   "source": [
    "for comment, note  in df[['commentaire', 'note']].to_numpy()  :\n",
    "    print(note)\n",
    "    break"
   ]
  },
  {
   "cell_type": "code",
   "execution_count": null,
   "metadata": {},
   "outputs": [],
   "source": [
    "for comment, note in tqdm(df[['commentaire', 'note']].to_numpy()) :\n",
    "    if comment and note :\n",
    "        nlp_comment = nlp(comment)\n",
    "        for token in nlp_comment :\n",
    "            if not token.is_stop :\n",
    "                if not token.lemma_ in bag_of_words.index :\n",
    "                    bag_of_words.loc[token.lemma_] = [0, 0, 0, 0, 0, 0, 0, 0, 0, 0]\n",
    "                bag_of_words.loc[token.lemma_][note] += 1"
   ]
  },
  {
   "cell_type": "code",
   "execution_count": null,
   "metadata": {},
   "outputs": [],
   "source": [
    "bag_of_words.to_csv('out.csv')\n",
    "bag_of_words"
   ]
  },
  {
   "cell_type": "code",
   "execution_count": null,
   "metadata": {},
   "outputs": [],
   "source": [
    "word_cloud.loc[\"text\"] = [\"\", \"\", \"\", \"\", \"\", \"\", \"\", \"\", \"\", \"\"]\n",
    "for comment, note in tqdm(df[['commentaire', 'note']].to_numpy()) :\n",
    "    if comment and note :\n",
    "        nlp_comment = nlp(comment)\n",
    "        for token in nlp_comment :\n",
    "            if not token.is_stop :\n",
    "                word_cloud.loc[\"text\"].loc[note] += token + ' '"
   ]
  },
  {
   "cell_type": "code",
   "execution_count": null,
   "metadata": {},
   "outputs": [],
   "source": [
    "note = \"0,5\"\n",
    "\n",
    "# Read the text.\n",
    "# text = open(word_cloud.loc[\"text\"].loc[note]).read()\n",
    "text = word_cloud.loc[\"text\"].loc[note]\n",
    "\n",
    "# Generate a word cloud image\n",
    "wordcloud = WordCloud().generate(text)\n",
    "\n",
    "# Display the generated image:\n",
    "plt.imshow(wordcloud, interpolation='bilinear')\n",
    "plt.axis(\"off\")\n",
    "\n",
    "# lower max_font_size\n",
    "wordcloud = WordCloud(max_font_size=40).generate(text)\n",
    "plt.figure()\n",
    "plt.imshow(wordcloud, interpolation=\"bilinear\")\n",
    "plt.axis(\"off\")\n",
    "plt.show()"
   ]
  }
 ],
 "metadata": {
  "kernelspec": {
   "display_name": "Python 3.10.8 64-bit (microsoft store)",
   "language": "python",
   "name": "python3"
  },
  "language_info": {
   "codemirror_mode": {
    "name": "ipython",
    "version": 3
   },
   "file_extension": ".py",
   "mimetype": "text/x-python",
   "name": "python",
   "nbconvert_exporter": "python",
   "pygments_lexer": "ipython3",
   "version": "3.10.8"
  },
  "orig_nbformat": 4,
  "vscode": {
   "interpreter": {
    "hash": "bacb8a813009e217cb58ea0ec67d556a694cf32584e91fdf9c136f51ebb4c77d"
   }
  }
 },
 "nbformat": 4,
 "nbformat_minor": 2
}
