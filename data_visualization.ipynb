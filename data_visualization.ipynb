{
 "cells": [
  {
   "cell_type": "code",
   "execution_count": 11,
   "metadata": {},
   "outputs": [],
   "source": [
    "%%capture\n",
    "\n",
    "%pip install pandas\n",
    "%pip install lxml\n",
    "%pip install matplotlib"
   ]
  },
  {
   "cell_type": "code",
   "execution_count": null,
   "metadata": {},
   "outputs": [],
   "source": [
    "import pandas as pd\n",
    "import matplotlib"
   ]
  },
  {
   "cell_type": "code",
   "execution_count": null,
   "metadata": {},
   "outputs": [],
   "source": [
    "DATAFILE = \"data/train.xml\"\n",
    "\n",
    "df = pd.read_xml(DATAFILE)"
   ]
  },
  {
   "cell_type": "code",
   "execution_count": 10,
   "metadata": {},
   "outputs": [
    {
     "name": "stdout",
     "output_type": "stream",
     "text": [
      "0         \"Ce n'est pas ce qui se trouve en face de vous...\n",
      "1         (...) En soi, je n'ai rien contre ce genre de ...\n",
      "2         Pour sa troisième réalisation après \"Tron, l'h...\n",
      "3         Joseph Kosinski offre de nouvelles images ébou...\n",
      "4         J'ai vu un film... qui traite d'un drame humai...\n",
      "                                ...                        \n",
      "665957    super realisation et quelques bon acteurs.  ce...\n",
      "665958    Film visuellement très beau et mis en musique ...\n",
      "665959    parti d'une histoire qui parait pour nous bana...\n",
      "665960    Je suis mitigé sur ce film.d un coté,j ai plut...\n",
      "665961    un bon film Netflix pour une fois  . le scénar...\n",
      "Name: commentaire, Length: 665962, dtype: object\n"
     ]
    }
   ],
   "source": [
    "print(df[\"commentaire\"])"
   ]
  },
  {
   "cell_type": "code",
   "execution_count": null,
   "metadata": {},
   "outputs": [],
   "source": []
  }
 ],
 "metadata": {
  "kernelspec": {
   "display_name": "Python 3.9.5 ('venv': venv)",
   "language": "python",
   "name": "python3"
  },
  "language_info": {
   "codemirror_mode": {
    "name": "ipython",
    "version": 3
   },
   "file_extension": ".py",
   "mimetype": "text/x-python",
   "name": "python",
   "nbconvert_exporter": "python",
   "pygments_lexer": "ipython3",
   "version": "3.9.5"
  },
  "orig_nbformat": 4,
  "vscode": {
   "interpreter": {
    "hash": "633bf250cea25c31224331f9c0fe44e55e17ff2feb517932fbe89d614b6441de"
   }
  }
 },
 "nbformat": 4,
 "nbformat_minor": 2
}
