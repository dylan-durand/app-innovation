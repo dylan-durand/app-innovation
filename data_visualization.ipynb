{
 "cells": [
  {
   "cell_type": "code",
   "execution_count": 66,
   "metadata": {},
   "outputs": [],
   "source": [
    "%%capture\n",
    "\n",
    "import sys\n",
    "\n",
    "%pip install pandas\n",
    "%pip install lxml\n",
    "%pip install matplotlib\n",
    "%pip install tqdm\n",
    "%pip install spacy\n",
    "!{sys.executable} -m spacy download fr_core_news_md\n"
   ]
  },
  {
   "cell_type": "code",
   "execution_count": null,
   "metadata": {},
   "outputs": [],
   "source": [
    "import pandas as pd\n",
    "import matplotlib.pyplot as plt\n",
    "from collections import Counter\n",
    "import spacy\n",
    "from tqdm import tqdm"
   ]
  },
  {
   "cell_type": "code",
   "execution_count": null,
   "metadata": {},
   "outputs": [],
   "source": [
    "nlp = spacy.load('fr_core_news_md')"
   ]
  },
  {
   "cell_type": "code",
   "execution_count": null,
   "metadata": {},
   "outputs": [],
   "source": [
    "DATAFILE = \"data/train.xml\"\n",
    "\n",
    "df : pd.DataFrame = pd.read_xml(DATAFILE)\n",
    "df"
   ]
  },
  {
   "cell_type": "code",
   "execution_count": null,
   "metadata": {},
   "outputs": [],
   "source": [
    "df.nunique()\n"
   ]
  },
  {
   "cell_type": "code",
   "execution_count": null,
   "metadata": {},
   "outputs": [],
   "source": [
    "s = df['note'].value_counts()\n",
    "s = s.sort_index()\n",
    "fig = plt.figure()\n",
    "s.plot.bar()\n",
    "\n",
    "plt.show()"
   ]
  },
  {
   "cell_type": "code",
   "execution_count": null,
   "metadata": {},
   "outputs": [],
   "source": [
    "df[\"note\"].to_numpy()\n"
   ]
  },
  {
   "cell_type": "code",
   "execution_count": null,
   "metadata": {},
   "outputs": [],
   "source": [
    "notes = df['note'].unique()\n",
    "notes.sort()\n",
    "bag_of_words = pd.DataFrame(columns=notes)\n"
   ]
  },
  {
   "cell_type": "code",
   "execution_count": null,
   "metadata": {},
   "outputs": [],
   "source": [
    "for comment, note  in df[['commentaire', 'note']].to_numpy()  :\n",
    "    print(note)\n",
    "    break"
   ]
  },
  {
   "cell_type": "code",
   "execution_count": null,
   "metadata": {},
   "outputs": [],
   "source": [
    "\n",
    "for comment, note in tqdm(df[['commentaire', 'note']].to_numpy()) :\n",
    "    if comment and note :\n",
    "        nlp_comment = nlp(comment)\n",
    "        for token in nlp_comment :\n",
    "            if not token.is_stop :\n",
    "                if not token.lemma_ in bag_of_words.index :\n",
    "                    bag_of_words.loc[token.lemma_] = [0, 0, 0, 0, 0, 0, 0, 0, 0, 0]\n",
    "                bag_of_words.loc[token.lemma_][note] += 1"
   ]
  },
  {
   "cell_type": "code",
   "execution_count": null,
   "metadata": {},
   "outputs": [],
   "source": [
    "bag_of_words.to_csv('out.csv')\n",
    "bag_of_words"
   ]
  }
 ],
 "metadata": {
  "kernelspec": {
   "display_name": "Python 3.9.5 ('venv': venv)",
   "language": "python",
   "name": "python3"
  },
  "language_info": {
   "codemirror_mode": {
    "name": "ipython",
    "version": 3
   },
   "file_extension": ".py",
   "mimetype": "text/x-python",
   "name": "python",
   "nbconvert_exporter": "python",
   "pygments_lexer": "ipython3",
   "version": "3.9.5"
  },
  "orig_nbformat": 4,
  "vscode": {
   "interpreter": {
    "hash": "fe56440c76de5a8edb1cec33d31638de9c6eac2d3250f34db812b347bc2a30ba"
   }
  }
 },
 "nbformat": 4,
 "nbformat_minor": 2
}
